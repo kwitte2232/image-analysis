{
 "cells": [
  {
   "cell_type": "code",
   "execution_count": 13,
   "metadata": {
    "collapsed": false
   },
   "outputs": [
    {
     "name": "stdout",
     "output_type": "stream",
     "text": [
      "(120,)\n",
      "('percent', [4.0, 4.0, 8.0, 4.0, 8.0, 0.0, 8.0, 0.0, 0.0, 8.0, 12.0, 0.0, 4.0, 4.0, 4.0, 0.0, 0.0, 4.0, 0.0, 0.0, 20.0, 0.0, 8.0, 4.0, 8.0, 0.0, 8.0, 4.0, 8.0, 8.0, 4.0, 4.0, 0.0, 0.0, 0.0, 0.0, 4.0, 8.0, 16.0, 0.0, 4.0, 0.0, 4.0, 0.0, 4.0, 0.0, 4.0, 0.0, 0.0, 0.0, 4.0, 0.0, 4.0, 8.0, 4.0, 12.0, 0.0, 8.0, 0.0, 0.0, 4.0, 0.0, 0.0, 8.0, 0.0, 8.0, 8.0, 4.0, 0.0, 8.0, 4.0, 0.0, 4.0, 12.0, 4.0, 4.0, 4.0, 8.0, 20.0, 4.0, 8.0, 4.0, 4.0, 0.0, 0.0, 4.0, 0.0, 0.0, 0.0, 4.0, 0.0, 0.0, 0.0, 0.0, 0.0, 4.0, 8.0, 8.0, 0.0, 4.0, 4.0, 4.0, 0.0, 0.0, 0.0, 4.0, 0.0, 8.0, 4.0, 0.0, 0.0, 4.0, 8.0, 0.0, 0.0, 0.0, 4.0, 0.0, 0.0, 0.0, 4.0, 4.0, 4.0, 0.0, 0.0, 0.0, 0.0, 8.0, 0.0, 0.0, 0.0, 0.0, 0.0, 0.0, 0.0, 0.0, 0.0, 0.0, 8.0, 0.0, 0.0, 0.0, 4.0, 0.0, 0.0, 0.0, 0.0, 0.0, 0.0, 0.0, 0.0, 0.0, 0.0, 0.0, 0.0, 0.0, 0.0, 4.0, 0.0, 4.0, 0.0, 0.0, 0.0, 8.0, 0.0, 0.0, 0.0, 0.0, 4.0, 0.0, 0.0, 0.0, 0.0, 0.0, 0.0, 0.0, 0.0, 0.0, 0.0, 4.0])\n",
      "[ 0.          0.01745329  0.03490659  0.05235988  0.06981317  0.08726646\n",
      "  0.10471976  0.12217305  0.13962634  0.15707963  0.17453293  0.19198622\n",
      "  0.20943951  0.2268928   0.2443461   0.26179939  0.27925268  0.29670597\n",
      "  0.31415927  0.33161256  0.34906585  0.36651914  0.38397244  0.40142573\n",
      "  0.41887902  0.43633231  0.45378561  0.4712389   0.48869219  0.50614548\n",
      "  0.52359878  0.54105207  0.55850536  0.57595865  0.59341195  0.61086524\n",
      "  0.62831853  0.64577182  0.66322512  0.68067841  0.6981317   0.71558499\n",
      "  0.73303829  0.75049158  0.76794487  0.78539816  0.80285146  0.82030475\n",
      "  0.83775804  0.85521133  0.87266463  0.89011792  0.90757121  0.9250245\n",
      "  0.9424778   0.95993109  0.97738438  0.99483767  1.01229097  1.02974426\n",
      "  1.04719755  1.06465084  1.08210414  1.09955743  1.11701072  1.13446401\n",
      "  1.15191731  1.1693706   1.18682389  1.20427718  1.22173048  1.23918377\n",
      "  1.25663706  1.27409035  1.29154365  1.30899694  1.32645023  1.34390352\n",
      "  1.36135682  1.37881011  1.3962634   1.41371669  1.43116999  1.44862328\n",
      "  1.46607657  1.48352986  1.50098316  1.51843645  1.53588974  1.55334303\n",
      "  1.57079633  1.58824962  1.60570291  1.6231562   1.6406095   1.65806279\n",
      "  1.67551608  1.69296937  1.71042267  1.72787596  1.74532925  1.76278254\n",
      "  1.78023584  1.79768913  1.81514242  1.83259571  1.85004901  1.8675023\n",
      "  1.88495559  1.90240888  1.91986218  1.93731547  1.95476876  1.97222205\n",
      "  1.98967535  2.00712864  2.02458193  2.04203522  2.05948852  2.07694181\n",
      "  2.0943951   2.11184839  2.12930169  2.14675498  2.16420827  2.18166156\n",
      "  2.19911486  2.21656815  2.23402144  2.25147474  2.26892803  2.28638132\n",
      "  2.30383461  2.32128791  2.3387412   2.35619449  2.37364778  2.39110108\n",
      "  2.40855437  2.42600766  2.44346095  2.46091425  2.47836754  2.49582083\n",
      "  2.51327412  2.53072742  2.54818071  2.565634    2.58308729  2.60054059\n",
      "  2.61799388  2.63544717  2.65290046  2.67035376  2.68780705  2.70526034\n",
      "  2.72271363  2.74016693  2.75762022  2.77507351  2.7925268   2.8099801\n",
      "  2.82743339  2.84488668  2.86233997  2.87979327  2.89724656  2.91469985\n",
      "  2.93215314  2.94960644  2.96705973  2.98451302  3.00196631  3.01941961\n",
      "  3.0368729   3.05432619  3.07177948  3.08923278  3.10668607  3.12413936]\n",
      "[4.0, 4.0, 8.0, 4.0, 8.0, 0.0, 8.0, 0.0, 0.0, 8.0, 12.0, 0.0, 4.0, 4.0, 4.0, 0.0, 0.0, 4.0, 0.0, 0.0, 20.0, 0.0, 8.0, 4.0, 8.0, 0.0, 8.0, 4.0, 8.0, 8.0, 4.0, 4.0, 0.0, 0.0, 0.0, 0.0, 4.0, 8.0, 16.0, 0.0, 4.0, 0.0, 4.0, 0.0, 4.0, 0.0, 4.0, 0.0, 0.0, 0.0, 4.0, 0.0, 4.0, 8.0, 4.0, 12.0, 0.0, 8.0, 0.0, 0.0, 4.0, 0.0, 0.0, 8.0, 0.0, 8.0, 8.0, 4.0, 0.0, 8.0, 4.0, 0.0, 4.0, 12.0, 4.0, 4.0, 4.0, 8.0, 20.0, 4.0, 8.0, 4.0, 4.0, 0.0, 0.0, 4.0, 0.0, 0.0, 0.0, 4.0, 0.0, 0.0, 0.0, 0.0, 0.0, 4.0, 8.0, 8.0, 0.0, 4.0, 4.0, 4.0, 0.0, 0.0, 0.0, 4.0, 0.0, 8.0, 4.0, 0.0, 0.0, 4.0, 8.0, 0.0, 0.0, 0.0, 4.0, 0.0, 0.0, 0.0, 4.0, 4.0, 4.0, 0.0, 0.0, 0.0, 0.0, 8.0, 0.0, 0.0, 0.0, 0.0, 0.0, 0.0, 0.0, 0.0, 0.0, 0.0, 8.0, 0.0, 0.0, 0.0, 4.0, 0.0, 0.0, 0.0, 0.0, 0.0, 0.0, 0.0, 0.0, 0.0, 0.0, 0.0, 0.0, 0.0, 0.0, 4.0, 0.0, 4.0, 0.0, 0.0, 0.0, 8.0, 0.0, 0.0, 0.0, 0.0, 4.0, 0.0, 0.0, 0.0, 0.0, 0.0, 0.0, 0.0, 0.0, 0.0, 0.0, 4.0]\n"
     ]
    },
    {
     "ename": "NameError",
     "evalue": "name 'target_data' is not defined",
     "output_type": "error",
     "traceback": [
      "\u001b[0;31m---------------------------------------------------------------------------\u001b[0m",
      "\u001b[0;31mNameError\u001b[0m                                 Traceback (most recent call last)",
      "\u001b[0;32m<ipython-input-13-438ca9ed0a67>\u001b[0m in \u001b[0;36m<module>\u001b[0;34m()\u001b[0m\n\u001b[1;32m     35\u001b[0m \u001b[0;31m#target_data = get_data(bud, 0)\u001b[0m\u001b[0;34m\u001b[0m\u001b[0;34m\u001b[0m\u001b[0m\n\u001b[1;32m     36\u001b[0m \u001b[0;34m\u001b[0m\u001b[0m\n\u001b[0;32m---> 37\u001b[0;31m \u001b[0mall_data\u001b[0m \u001b[0;34m=\u001b[0m \u001b[0;34m[\u001b[0m\u001b[0mprev_data\u001b[0m\u001b[0;34m,\u001b[0m \u001b[0mtarget_data\u001b[0m\u001b[0;34m]\u001b[0m\u001b[0;34m\u001b[0m\u001b[0m\n\u001b[0m\u001b[1;32m     38\u001b[0m \u001b[0mcolors\u001b[0m \u001b[0;34m=\u001b[0m \u001b[0;34m[\u001b[0m\u001b[0;34m\"#708090\"\u001b[0m\u001b[0;34m,\u001b[0m \u001b[0;34m\"#bebebe\"\u001b[0m\u001b[0;34m]\u001b[0m\u001b[0;34m\u001b[0m\u001b[0m\n\u001b[1;32m     39\u001b[0m \u001b[0;34m\u001b[0m\u001b[0m\n",
      "\u001b[0;31mNameError\u001b[0m: name 'target_data' is not defined"
     ]
    }
   ],
   "source": [
    "import pandas as pd\n",
    "\n",
    "def get_data(curr_data, space):\n",
    "    data = pd.read_csv(curr_data)\n",
    "    prev_data = np.asarray(data['Radians'])\n",
    "\n",
    "    shape = prev_data.shape\n",
    "    print shape\n",
    "    N = shape[0] #number of data points\n",
    "\n",
    "    prev_hist, prev_bin_edges = np.histogram(prev_data, 180)\n",
    "\n",
    "    prev_list = list(prev_hist)\n",
    "    #print(\"prev list\", prev_list)\n",
    "    prev_float = [float(x) for x in prev_list]\n",
    "    percent_prev = [x/25*100 for x in prev_float]\n",
    "    print(\"percent\", percent_prev)\n",
    "    \n",
    "    bottom = 8\n",
    "    max_height = 4\n",
    "\n",
    "    theta = np.linspace((0.0+space), np.pi, 180, endpoint=False)\n",
    "    print theta\n",
    "\n",
    "    radii = percent_prev\n",
    "    print radii\n",
    "    width = (np.pi)/((180))\n",
    "    \n",
    "    return [theta, radii, width, bottom]\n",
    "\n",
    "prev = '/Users/Kristen/Desktop/02232017_BudSampling_Dark/prev_bud_vs_new_bud.csv'\n",
    "#bud = '/Users/Kristen/Desktop/02232017_BudSampling_Dark/prev_bud_vs_target.csv'\n",
    "\n",
    "prev_data = get_data(prev, 0)\n",
    "#target_data = get_data(bud, 0)\n",
    "\n",
    "all_data = [prev_data, target_data]\n",
    "colors = [\"#708090\", \"#bebebe\"]\n",
    "\n",
    "ax = plt.subplot(111, polar=True)\n",
    "prev_bars = ax.bar(prev_data[0], prev_data[1], width=prev_data[2], color=\"#bebebe\", bottom=prev_data[3])\n",
    "#target_bars = ax.bar(target_data[0], target_data[1], width=target_data[2], color=\"#bebebe\", bottom=target_data[3]) \n",
    "ax.set_yticklabels([])\n",
    "\n",
    "ax.set_rmax(60)\n",
    "\n",
    "#save_to = '/Users/Kristen/Desktop/02232017_BudSampling_Dark/PrevBud_vs_NewBud.pdf'\n",
    "#plt.savefig(save_to)\n",
    "\n",
    "plt.show()"
   ]
  },
  {
   "cell_type": "code",
   "execution_count": 7,
   "metadata": {
    "collapsed": false
   },
   "outputs": [],
   "source": [
    "import random\n",
    "import numpy as np\n",
    "import scipy.stats\n",
    "import math\n",
    "import matplotlib.pyplot as plt\n",
    "%matplotlib inline\n",
    "\n",
    "\n",
    "def run_360_simulation(x):\n",
    "    pol_eff_aves = []\n",
    "    for i in range(x):\n",
    "        ave = run_once_360()\n",
    "        pol_eff_aves.append(ave)\n",
    "    #print pol_eff_aves\n",
    "    final_ave = np.mean(pol_eff_aves)\n",
    "    return final_ave\n",
    "\n",
    "def run_180_simulation(x):\n",
    "    pol_eff_aves = []\n",
    "    all_cos = []\n",
    "    for i in range(x):\n",
    "        ave, cos = run_once_180()\n",
    "        pol_eff_aves.append(ave)\n",
    "        all_cos.append(cos)\n",
    "    final_ave = np.mean(pol_eff_aves)\n",
    "    return final_ave, all_cos\n",
    "\n",
    "def run_once_360():\n",
    "    \n",
    "    bud = [random.uniform((-180),(180)) for r in xrange(200)]\n",
    "    target = [random.uniform((-180),(180)) for r in xrange(200)]\n",
    "    \n",
    "    plt.scatter(np.asarray(bud), np.asarray(target))\n",
    "    plt.xlim(-180,180)\n",
    "    plt.ylim(-180,180)\n",
    "    plt.show()\n",
    "\n",
    "    cos_values = []\n",
    "    diff = []\n",
    "    for x,y in zip(bud, target):\n",
    "        curr_diff = abs(x-y)\n",
    "        #curr_diff = x-y\n",
    "        diff.append(curr_diff)\n",
    "        rads = curr_diff*(np.pi/180)\n",
    "        curr_cos = math.cos(rads)\n",
    "        cos_values.append(curr_cos)\n",
    "    \n",
    "    plt.scatter(np.asarray(diff), np.asarray(cos_values))\n",
    "    plt.xlim(-180,180)\n",
    "    plt.ylim(-1,1)\n",
    "    plt.show()\n",
    "    \n",
    "    ave = np.mean(cos_values)\n",
    "    return ave\n",
    "    \n",
    "def run_once_180():\n",
    "    \n",
    "    bud = [random.uniform((-40),(40)) for r in xrange(30)]\n",
    "    target_first = [random.uniform((30),(150)) for r  in xrange(30)] \n",
    "    \n",
    "    target = [x+0 for x in target_first]\n",
    "\n",
    "    cos_values = []\n",
    "    diff = []\n",
    "    for x,y in zip(bud, target):\n",
    "        curr_diff = abs(x-y)\n",
    "        #curr_diff = x-y\n",
    "        diff.append(curr_diff)\n",
    "        rads = curr_diff*(np.pi/180)\n",
    "        curr_cos = math.cos(rads)\n",
    "        cos_values.append(curr_cos)\n",
    "    \n",
    "    \n",
    "    #plt.scatter(np.asarray(bud), np.asarray(target))\n",
    "    #plt.xlim(-90,90)\n",
    "    #plt.ylim(-90,90)\n",
    "    #plt.xlabel('Bud vs Target')\n",
    "    #plt.show()\n",
    "    \n",
    "    #plt.scatter(np.asarray(target), np.asarray(diff))\n",
    "    #plt.xlim(-90,90)\n",
    "    #plt.ylim(-90,90)\n",
    "    #plt.xlabel('Target vs Diff')\n",
    "    #plt.show()\n",
    "    \n",
    "    #plt.scatter(np.asarray(bud), np.asarray(diff))\n",
    "    #plt.xlim(-90,90)\n",
    "    #plt.ylim(-90,90)\n",
    "    #plt.xlabel('Bud vs Diff')\n",
    "    #plt.show()\n",
    "    \n",
    "    ave = np.mean(cos_values)\n",
    "    return ave, cos_values    \n",
    "\n",
    "\n",
    "#run_360_simulation(1)\n",
    "#final_ave, all_cos = run_180_simulation(10000)\n",
    "\n",
    "#cos = np.asarray(all_cos)\n",
    "#print cos.shape\n",
    "#all_means = []\n",
    "#all_std = []\n",
    "#for c in cos:\n",
    "    #curr_mean = np.mean(c)\n",
    "    #curr_std = np.std(c)\n",
    "    #all_means.append(curr_mean)\n",
    "    #all_std.append(curr_std)\n",
    "    \n",
    "#mean, sigma = np.mean(all_means), np.mean(all_std)\n",
    "\n",
    "#ci = scipy.stats.norm.interval(0.95, loc=mean, scale=sigma/math.sqrt(10000))\n",
    "#print ci\n",
    "#print mean\n",
    "\n",
    "#xs = [x for x in xrange(10000)]\n",
    "\n",
    "#plt.scatter(xs, all_means)\n"
   ]
  },
  {
   "cell_type": "code",
   "execution_count": 3,
   "metadata": {
    "collapsed": true
   },
   "outputs": [],
   "source": [
    "def run_once_180():\n",
    "    \n",
    "    bud = [random.uniform((0),(180)) for r in xrange(30)]\n",
    "    target = [random.uniform((0),(180)) for r  in xrange(30)] \n",
    "\n",
    "    cos_values = []\n",
    "    diff = []\n",
    "    diff_rads = []\n",
    "    for x,y in zip(bud, target):\n",
    "        curr_diff = abs(x-y)\n",
    "        #curr_diff = x-y\n",
    "        diff.append(curr_diff)\n",
    "        rads = curr_diff*(np.pi/180)\n",
    "        diff_rads.append(rads)\n",
    "        curr_cos = math.cos(rads)\n",
    "        cos_values.append(curr_cos)\n",
    "        \n",
    "    normal_rads = [x/np.pi for x in diff_rads]\n",
    "    \n",
    "    ave = np.mean(cos_values)\n",
    "    return ave, cos_values, diff_rads, normal_rads\n",
    "\n",
    "\n",
    "def run_180_simulation(x):\n",
    "    pol_eff_aves = []\n",
    "    all_cos = []\n",
    "    norm_rads = []\n",
    "    for i in range(x):\n",
    "        ave, cos, rads, normal_rads = run_once_180()\n",
    "        pol_eff_aves.append(ave)\n",
    "        all_cos.append(cos)\n",
    "        norm_rads.append(normal_rads)\n",
    "    final_ave = np.mean(pol_eff_aves)\n",
    "    return final_ave, all_cos, norm_rads\n",
    "\n",
    "\n",
    "#ave, cos, rads, normal_rads = run_once_180()\n",
    "\n",
    "#a, b, c = run_180_simulation(100)"
   ]
  },
  {
   "cell_type": "code",
   "execution_count": 8,
   "metadata": {
    "collapsed": false
   },
   "outputs": [
    {
     "data": {
      "text/plain": [
       "-0.97924394732029141"
      ]
     },
     "execution_count": 8,
     "metadata": {},
     "output_type": "execute_result"
    },
    {
     "data": {
      "image/png": "[encoded data removed]",
      "text/plain": [
       "<matplotlib.figure.Figure at 0x106d3bb50>"
      ]
     },
     "metadata": {},
     "output_type": "display_data"
    }
   ],
   "source": [
    "def run_once():\n",
    "    \n",
    "    bud = 0\n",
    "    target = [random.uniform((0),(360)) for r in xrange(100)] \n",
    "    candidates = range(0,180)\n",
    "    target_weighted = np.random.choice(candidates, 100, prob_dist)\n",
    "    \n",
    "    rads = []\n",
    "    for y in target:\n",
    "        theta = y - bud\n",
    "        radians = theta*(np.pi/180)\n",
    "        rads.append(radians)\n",
    "        \n",
    "    return rads\n",
    "\n",
    "def run_simulation(x):\n",
    "    values = []\n",
    "    for i in xrange(x):\n",
    "        theta = run_once()\n",
    "        values.append(theta)\n",
    "    pol = 1 - 2*(np.mean(values)/np.pi)\n",
    "    return pol, values\n",
    "\n",
    "pol, values = run_simulation(100)\n",
    "\n",
    "rads = run_once()\n",
    "degrees = [x*(180/np.pi) for x in rads]\n",
    "\n",
    "xs = xrange(100)\n",
    "\n",
    "plt.ylim(0, 180)\n",
    "plt.scatter(xs, degrees)\n",
    "pol"
   ]
  },
  {
   "cell_type": "code",
   "execution_count": 5,
   "metadata": {
    "collapsed": true
   },
   "outputs": [],
   "source": [
    "prob_dist = [4.0, 0.0, 0.0, 0.0, 0.0, 0.0, 0.0, 0.0, 0.0, 0.0, 0.0, 0.0, 0.0, 0.0, 0.0, 8.0, 0.0, 0.0, 0.0, 0.0, 0.0, 0.0, 0.0, 0.0, 0.0, 0.0, 4.0, 0.0, 0.0, 0.0, 0.0, 0.0, 0.0, 0.0, 0.0, 0.0, 0.0, 0.0, 0.0, 0.0, 0.0, 0.0, 0.0, 4.0, 0.0, 0.0, 4.0, 0.0, 0.0, 0.0, 0.0, 0.0, 0.0, 0.0, 4.0, 4.0, 0.0, 0.0, 0.0, 4.0, 0.0, 4.0, 4.0, 16.0, 0.0, 8.0, 4.0, 16.0, 8.0, 0.0, 0.0, 4.0, 0.0, 4.0, 0.0, 0.0, 0.0, 12.0, 4.0, 8.0, 4.0, 0.0, 0.0, 4.0, 0.0, 8.0, 4.0, 8.0, 8.0, 0.0, 12.0, 12.0, 4.0, 12.0, 4.0, 0.0, 4.0, 4.0, 4.0, 8.0, 4.0, 0.0, 4.0, 4.0, 8.0, 4.0, 8.0, 4.0, 4.0, 4.0, 0.0, 4.0, 0.0, 8.0, 0.0, 4.0, 4.0, 8.0, 0.0, 8.0, 0.0, 0.0, 0.0, 4.0, 0.0, 4.0, 0.0, 8.0, 0.0, 12.0, 8.0, 4.0, 0.0, 4.0, 8.0, 0.0, 0.0, 4.0, 0.0, 4.0, 0.0, 8.0, 4.0, 4.0, 0.0, 0.0, 0.0, 4.0, 0.0, 4.0, 4.0, 4.0, 4.0, 4.0, 4.0, 8.0, 0.0, 4.0, 4.0, 0.0, 4.0, 4.0, 0.0, 0.0, 4.0, 8.0, 0.0, 0.0, 0.0, 4.0, 4.0, 0.0, 8.0, 0.0, 4.0, 4.0, 0.0, 4.0, 0.0, 4.0]\n",
    "\n",
    "bud_dist = [4.0, 4.0, 8.0, 4.0, 8.0, 0.0, 8.0, 0.0, 0.0, 8.0, 12.0, 0.0, 4.0, 4.0, 4.0, 0.0, 0.0, 4.0, 0.0, 0.0, 20.0, 0.0, 8.0, 4.0, 8.0, 0.0, 8.0, 4.0, 8.0, 8.0, 4.0, 4.0, 0.0, 0.0, 0.0, 0.0, 4.0, 8.0, 16.0, 0.0, 4.0, 0.0, 4.0, 0.0, 4.0, 0.0, 4.0, 0.0, 0.0, 0.0, 4.0, 0.0, 4.0, 8.0, 4.0, 12.0, 0.0, 8.0, 0.0, 0.0, 4.0, 0.0, 0.0, 8.0, 0.0, 8.0, 8.0, 4.0, 0.0, 8.0, 4.0, 0.0, 4.0, 12.0, 4.0, 4.0, 4.0, 8.0, 20.0, 4.0, 8.0, 4.0, 4.0, 0.0, 0.0, 4.0, 0.0, 0.0, 0.0, 4.0, 0.0, 0.0, 0.0, 0.0, 0.0, 4.0, 8.0, 8.0, 0.0, 4.0, 4.0, 4.0, 0.0, 0.0, 0.0, 4.0, 0.0, 8.0, 4.0, 0.0, 0.0, 4.0, 8.0, 0.0, 0.0, 0.0, 4.0, 0.0, 0.0, 0.0, 4.0, 4.0, 4.0, 0.0, 0.0, 0.0, 0.0, 8.0, 0.0, 0.0, 0.0, 0.0, 0.0, 0.0, 0.0, 0.0, 0.0, 0.0, 8.0, 0.0, 0.0, 0.0, 4.0, 0.0, 0.0, 0.0, 0.0, 0.0, 0.0, 0.0, 0.0, 0.0, 0.0, 0.0, 0.0, 0.0, 0.0, 4.0, 0.0, 4.0, 0.0, 0.0, 0.0, 8.0, 0.0, 0.0, 0.0, 0.0, 4.0, 0.0, 0.0, 0.0, 0.0, 0.0, 0.0, 0.0, 0.0, 0.0, 0.0, 4.0]"
   ]
  },
  {
   "cell_type": "code",
   "execution_count": 9,
   "metadata": {
    "collapsed": false
   },
   "outputs": [
    {
     "name": "stdout",
     "output_type": "stream",
     "text": [
      "[ 84  96 131  37  83  89 124 148  78 130 107  76  76  46 176 179 118  63\n",
      " 143  67  54   0  36  61 147  99  16 175  88 115]\n",
      "[123   5  73  83 173  48  85 136 175  98 144   9   9  96 105 150 153  50\n",
      "  38 133   5 173   1  72  96  76 132 170  40   8]\n",
      "0.990765238715\n",
      "1.98153047743\n",
      "56.7666666667\n",
      "0.630740740741\n"
     ]
    },
    {
     "data": {
      "text/plain": [
       "0.36925925925925907"
      ]
     },
     "execution_count": 9,
     "metadata": {},
     "output_type": "execute_result"
    },
    {
     "data": {
      "image/png": "[encoded data removed]",
      "text/plain": [
       "<matplotlib.figure.Figure at 0x109c5c310>"
      ]
     },
     "metadata": {},
     "output_type": "display_data"
    }
   ],
   "source": [
    "def run_once():\n",
    "    \n",
    "    prev_bud = 0\n",
    "    new_bud = [random.uniform((0),(180)) for r in xrange(30)] \n",
    "    target = [random.uniform((0),(180)) for r in xrange(30)] \n",
    "    candidates = range(0,180)\n",
    "    target_weighted = np.random.choice(candidates, 30, prob_dist)\n",
    "    print target_weighted\n",
    "    new_bud_weighted = np.random.choice(candidates, 30, bud_dist)\n",
    "    print new_bud_weighted\n",
    "    \n",
    "    fig = plt.figure()\n",
    "    ax1 = fig.add_subplot(111)\n",
    "    xs = range(0,30)\n",
    "    ax1.scatter(xs, target_weighted, c='b')\n",
    "    ax1.scatter(xs, new_bud_weighted, c='r')\n",
    "    \n",
    "    rads = []\n",
    "    for x,y in zip(target_weighted, new_bud_weighted):\n",
    "        theta = abs(x-y)\n",
    "        radians = theta*(np.pi/180)\n",
    "        rads.append(radians)\n",
    "        \n",
    "    return rads\n",
    "\n",
    "def run_simulation(x):\n",
    "    values = []\n",
    "    for i in xrange(x):\n",
    "        theta = run_once()\n",
    "        values.append(theta)\n",
    "    pol = 1 - 2*(np.mean(values)/np.pi)\n",
    "    return pol, values\n",
    "\n",
    "#pol, values = run_simulation(1)\n",
    "\n",
    "rads = run_once()\n",
    "pol_eff = 1 - 2*(np.mean(rads)/np.pi)\n",
    "print np.mean(rads)\n",
    "print 2*(np.mean(rads))\n",
    "print np.mean(rads)*(180/np.pi)\n",
    "print 2*(np.mean(rads)/np.pi)\n",
    "degrees = [x*(180/np.pi) for x in rads]\n",
    "\n",
    "xs = range(0,30)\n",
    "\n",
    "plt.ylim(0, 180)\n",
    "#plt.scatter(xs, degrees)\n",
    "pol\n",
    "pol_eff"
   ]
  },
  {
   "cell_type": "code",
   "execution_count": 10,
   "metadata": {
    "collapsed": false
   },
   "outputs": [
    {
     "name": "stdout",
     "output_type": "stream",
     "text": [
      "360\n",
      "360\n"
     ]
    }
   ],
   "source": [
    "reverse = list(prob_dist)\n",
    "reverse.reverse()\n",
    "new_target_dist = prob_dist + reverse\n",
    "print len(new_target_dist)\n",
    "\n",
    "bud_rev = list(bud_dist)\n",
    "bud_rev.reverse()\n",
    "new_bud_dist = bud_dist + bud_rev\n",
    "print(len(new_bud_dist))\n"
   ]
  },
  {
   "cell_type": "code",
   "execution_count": 65,
   "metadata": {
    "collapsed": false
   },
   "outputs": [
    {
     "name": "stdout",
     "output_type": "stream",
     "text": [
      "102.100259544\n",
      "-0.134447328269\n",
      "-0.135710077899\n",
      "102.213907011\n"
     ]
    }
   ],
   "source": [
    "import random\n",
    "import numpy as np\n",
    "import math\n",
    "import matplotlib.pyplot as plt\n",
    "\n",
    "def run_once():\n",
    "    \n",
    "    #new_bud = [random.uniform((-90),(90)) for r in xrange(30)] \n",
    "    \n",
    "    target = [random.uniform((45),(315)) for r in xrange(3000)]\n",
    "    \n",
    "    bud_1 = [random.uniform((260),(360)) for r in xrange(1500)]\n",
    "    bud_2 = [random.uniform((0),(100)) for r in xrange(1500)]\n",
    "    final_bud = bud_2 + bud_1\n",
    "    \n",
    "    \n",
    "    #candidates = range(0,360)\n",
    "    #print len(candidates)\n",
    "    #print len(new_bud_dist)\n",
    "    #target_weighted = np.random.choice(candidates, 30, p=new_target_dist)\n",
    "    #print target_weighted\n",
    "    #print np.mean(target_weighted)\n",
    "    #new_bud_weighted = np.random.choice(candidates, 30, p=new_bud_dist)\n",
    "    #print new_bud_weighted\n",
    "    #print np.mean(new_bud_weighted)\n",
    "    \n",
    "    rads = []\n",
    "    degs = []\n",
    "    for x,y in zip(target, final_bud):\n",
    "        theta = abs(x-y)\n",
    "        #print theta\n",
    "        if theta > 180:\n",
    "            theta = 360 - theta\n",
    "        #if theta < 40:\n",
    "            #theta = theta/2\n",
    "        #elif theta >= 40:\n",
    "            #theta = theta - 40\n",
    "        degs.append(theta)\n",
    "        radians = theta*(np.pi/180)\n",
    "        rads.append(radians)\n",
    "    #print degs\n",
    "    #print np.mean(degs)\n",
    "    return rads\n",
    "\n",
    "def run_simulation(x):\n",
    "    values = []\n",
    "    for i in xrange(x):\n",
    "        theta = run_once()\n",
    "        values.append(theta)\n",
    "    pol = 1 - 2*(np.mean(values)/np.pi)\n",
    "    return pol, values\n",
    "\n",
    "rads = run_once()\n",
    "degrees = [x*(180/np.pi) for x in rads]\n",
    "print np.mean(degrees)\n",
    "\n",
    "xs = range(0,30)\n",
    "\n",
    "#plt.ylim(0, 180)\n",
    "#plt.scatter(xs, degrees)\n",
    "\n",
    "pol_eff = 1 - 2*(np.mean(rads)/np.pi)\n",
    "print pol_eff\n",
    "\n",
    "sim_pol_eff, all_runs = run_simulation(1000)\n",
    "print sim_pol_eff\n",
    "print np.mean(all_runs)*(180/np.pi)"
   ]
  },
  {
   "cell_type": "code",
   "execution_count": 14,
   "metadata": {
    "collapsed": false
   },
   "outputs": [
    {
     "data": {
      "image/png": "[encoded data removed]",
      "text/plain": [
       "<matplotlib.figure.Figure at 0x104767c10>"
      ]
     },
     "metadata": {},
     "output_type": "display_data"
    }
   ],
   "source": [
    "%matplotlib inline\n",
    "\n",
    "def get_data(diff):\n",
    "\n",
    "    N = len(diff)\n",
    "\n",
    "    prev_hist, prev_bin_edges = np.histogram(diff, 180)\n",
    "\n",
    "    prev_list = list(prev_hist)\n",
    "    prev_float = [float(x) for x in prev_list]\n",
    "    percent_prev = [x/25*100 for x in prev_float]\n",
    "    \n",
    "    bottom = 8\n",
    "    max_height = 4\n",
    "\n",
    "    theta = np.linspace((0.0), np.pi, 180, endpoint=False)\n",
    "    #print theta\n",
    "\n",
    "    radii = percent_prev\n",
    "    #print radii\n",
    "    width = (np.pi)/((180))\n",
    "    \n",
    "    return [theta, radii, width, bottom]\n",
    "\n",
    "\n",
    "prev_data = get_data(rads)\n",
    "#target_data = get_data(bud, 0)\n",
    "\n",
    "colors = [\"#708090\", \"#bebebe\"]\n",
    "\n",
    "ax = plt.subplot(111, polar=True)\n",
    "prev_bars = ax.bar(prev_data[0], prev_data[1], width=prev_data[2], color=\"#bebebe\", bottom=prev_data[3])\n",
    "#target_bars = ax.bar(target_data[0], target_data[1], width=target_data[2], color=\"#bebebe\", bottom=target_data[3]) \n",
    "ax.set_yticklabels([])\n",
    "\n",
    "ax.set_rmax(100)\n",
    "\n",
    "#save_to = '/Users/Kristen/Desktop/02232017_BudSampling_Dark/PrevBud_vs_NewBud.pdf'\n",
    "#plt.savefig(save_to)\n",
    "\n",
    "plt.show()"
   ]
  },
  {
   "cell_type": "code",
   "execution_count": 20,
   "metadata": {
    "collapsed": false
   },
   "outputs": [
    {
     "data": {
      "text/plain": [
       "22.5"
      ]
     },
     "execution_count": 20,
     "metadata": {},
     "output_type": "execute_result"
    }
   ],
   "source": [
    "#how do the measurements of cells that don't respond affect the Pol Eff?\n",
    "0.125*np.pi*(180/np.pi)"
   ]
  },
  {
   "cell_type": "code",
   "execution_count": 41,
   "metadata": {
    "collapsed": false
   },
   "outputs": [
    {
     "name": "stdout",
     "output_type": "stream",
     "text": [
      "wide polarization:  0.745522463354\n",
      "N points:  27\n",
      "tight polarization:  0.824013687627\n",
      "N points:  24\n",
      "at r =  55.3597951158  pol eff =  0.38489116538 \n",
      "\n",
      "at r =  90.0538205731  pol eff =  -0.000598006367267 \n",
      "\n",
      "at r =  92.8363636345  pol eff =  -0.031515151494 \n",
      "\n"
     ]
    },
    {
     "data": {
      "image/png": "[encoded data removed]",
      "text/plain": [
       "<matplotlib.figure.Figure at 0x11789bed0>"
      ]
     },
     "metadata": {},
     "output_type": "display_data"
    }
   ],
   "source": [
    "directory = '/Users/Kristen/Desktop/DATA/FINISHED/Bem1_Variants_Polarization/05212015/WYK8308_Pol_Expt/processedImages/new_bud_vs_target.csv'\n",
    "data = pd.read_csv(directory)\n",
    "degrees = np.asarray(data['Degrees'])\n",
    "n = len(degrees)\n",
    "ys = [random.uniform((0),(6)) for r in xrange(n)]\n",
    "\n",
    "rads = np.asarray(data['Radians'])\n",
    "\n",
    "small_rads = []\n",
    "big_rads = []\n",
    "for r in rads:\n",
    "    if r < (np.pi/4):\n",
    "        small_rads.append(r)\n",
    "    elif r > (np.pi/4):\n",
    "        big_rads.append(r)\n",
    "\n",
    "tight_pol = np.asarray(small_rads)        \n",
    "\n",
    "pol_eff = 1-2*(np.mean(rads)/np.pi)\n",
    "print \"wide polarization: \", pol_eff\n",
    "print \"N points: \", len(rads)\n",
    "\n",
    "tight_pol_eff = 1-2*(np.mean(tight_pol)/np.pi)\n",
    "print \"tight polarization: \", tight_pol_eff\n",
    "print \"N points: \", len(small_rads)\n",
    "\n",
    "for r in big_rads:\n",
    "    pol = 1-2*(r/np.pi)\n",
    "    print \"at r = \", r*(180/np.pi), \" pol eff = \", pol, \"\\n\" \n",
    "\n",
    "plt.scatter(degrees, ys)\n",
    "plt.xlim(0,180)\n",
    "plt.show()"
   ]
  },
  {
   "cell_type": "code",
   "execution_count": 39,
   "metadata": {
    "collapsed": false
   },
   "outputs": [
    {
     "data": {
      "image/png": "[encoded data removed]",
      "text/plain": [
       "<matplotlib.figure.Figure at 0x10a4348d0>"
      ]
     },
     "metadata": {},
     "output_type": "display_data"
    }
   ],
   "source": [
    "pol_eff = []\n",
    "for x in range(0,180):\n",
    "    radians = x*(np.pi/180)\n",
    "    y = 1-2*(np.mean(radians)/np.pi)\n",
    "    pol_eff.append(y)\n",
    "\n",
    "xs = range(0,180)\n",
    "plt.scatter(xs, pol_eff)\n",
    "plt.xlim(0,180)\n",
    "plt.ylim(-1,1)\n",
    "plt.show()"
   ]
  },
  {
   "cell_type": "code",
   "execution_count": 73,
   "metadata": {
    "collapsed": false
   },
   "outputs": [
    {
     "name": "stdout",
     "output_type": "stream",
     "text": [
      "42.2128646209\n",
      "0.530968170879\n"
     ]
    },
    {
     "data": {
      "text/plain": [
       "0.52671699649540038"
      ]
     },
     "execution_count": 73,
     "metadata": {},
     "output_type": "execute_result"
    }
   ],
   "source": [
    "def run_bias_once():\n",
    "    \n",
    "    diff_respond = [random.uniform((0),(45)) for r in xrange(15)]\n",
    "    diff_no_respond = gen_avg()\n",
    "    diff = diff_respond + diff_no_respond\n",
    "    #diff = diff_respond \n",
    "    rads = [x*(np.pi/180) for x in diff]\n",
    "    \n",
    "    return rads\n",
    "\n",
    "def gen_avg(expected_avg=102, n=5, a=46, b=92):\n",
    "    while True:\n",
    "        l = [random.randint(a, b) for i in range(n)]\n",
    "        avg = reduce(lambda x, y: x + y, l) / len(l)\n",
    "\n",
    "        if avg == expected_avg:\n",
    "            return l\n",
    "\n",
    "rads = run_bias_once()\n",
    "degrees = [x*(180/np.pi) for x in rads]\n",
    "print np.mean(degrees)\n",
    "\n",
    "xs = range(0,30)\n",
    "\n",
    "#plt.ylim(0, 180)\n",
    "#plt.scatter(xs, degrees)\n",
    "\n",
    "pol_eff = 1 - 2*(np.mean(rads)/np.pi)\n",
    "print pol_eff\n",
    "\n",
    "\n",
    "def simulation(x):\n",
    "    values = []\n",
    "    for i in xrange(x):\n",
    "        theta = run_bias_once()\n",
    "        values.append(theta)\n",
    "    pol = 1 - 2*(np.mean(values)/np.pi)\n",
    "    return pol\n",
    "\n",
    "simulation(100)"
   ]
  },
  {
   "cell_type": "code",
   "execution_count": 74,
   "metadata": {
    "collapsed": false
   },
   "outputs": [
    {
     "data": {
      "text/plain": [
       "0.22328300350459962"
      ]
     },
     "execution_count": 74,
     "metadata": {},
     "output_type": "execute_result"
    }
   ],
   "source": [
    "0.75-0.52671699649540038"
   ]
  },
  {
   "cell_type": "code",
   "execution_count": 292,
   "metadata": {
    "collapsed": false
   },
   "outputs": [
    {
     "name": "stdout",
     "output_type": "stream",
     "text": [
      "[-0.13830444444444456, -0.048952872291323279, 0.038978225803714794, 0.12682460491493419, 0.21723847999434598, 0.3051115572707469, 0.39679765053602678, 0.48327851027501068, 0.57322635596500815, 0.66281111232837864, 0.74608498147610458]\n",
      "[102.4474, 94.405758506219087, 86.491959677665676, 78.585785557655925, 70.448536800508862, 62.539959845632779, 54.28821145175759, 46.504934075249039, 38.409627963149269, 30.346999890445925, 22.852351667150582]\n",
      "0\n",
      "1\n",
      "2\n",
      "3\n",
      "4\n",
      "5\n",
      "6\n",
      "7\n",
      "8\n",
      "9\n",
      "10\n",
      "10\n"
     ]
    }
   ],
   "source": [
    "import random\n",
    "def run_bias_once(total_n, pol_number, average):\n",
    "    \n",
    "    diff_respond = [random.uniform((0),(45)) for r in xrange(pol_number)]\n",
    "    n = total_n - pol_number\n",
    "    if n > 0:\n",
    "        diff_no_respond = gen_avg(n, average)\n",
    "        diff = diff_respond + diff_no_respond\n",
    "    elif n == 0:\n",
    "        diff = diff_respond\n",
    "    rads = [x*(np.pi/180) for x in diff]\n",
    "    \n",
    "    return rads\n",
    "\n",
    "def gen_avg(n, expected_avg, a=46, b=180):\n",
    "    while True:\n",
    "        l = [random.randint(a, b) for i in range(n)]\n",
    "        avg = reduce(lambda x, y: x + y, l) / len(l)\n",
    "        if avg == expected_avg:\n",
    "            return l\n",
    "        \n",
    "def simulation(x, total_n, pol_number, average):\n",
    "    values = []\n",
    "    for i in xrange(x):\n",
    "        theta = run_bias_once(total_n, pol_number, average)\n",
    "        values.append(theta)\n",
    "    pol = 1 - 2*(np.mean(values)/np.pi)\n",
    "    return pol, values\n",
    "\n",
    "def simulate_new_eqn(x, total_n, pol_number, average):\n",
    "    values = []\n",
    "    for i in xrange(x):\n",
    "        theta = run_bias_once(total_n, pol_number, average)\n",
    "        values.append(theta)\n",
    "    pol = 1.1357 - 2*(np.mean(values)/np.pi)\n",
    "    return pol, values\n",
    "\n",
    "pol_eff = []\n",
    "angles = []\n",
    "for i in range(11):\n",
    "    pol, ave_angle = simulation(1000,10,i,102)\n",
    "    pol_eff.append(pol)\n",
    "    angles.append(np.mean(ave_angle)*(180/np.pi)) \n",
    "print pol_eff \n",
    "print angles\n",
    "\n",
    "non_bias_pol_eff = []\n",
    "for i in range(11):\n",
    "    print i\n",
    "    pol_non_bias, ave_angle_non_bias = simulation(1000,10,i,90)\n",
    "    non_bias_pol_eff.append(pol_non_bias)\n",
    "    \n",
    "pol_new = []\n",
    "angles_new = []\n",
    "for i in range(10):\n",
    "    pol_new_eqn, ave_angle_new_eqn = simulate_new_eqn(10,10,i,102)\n",
    "    pol_new.append(pol_new_eqn)\n",
    "    angles_new.append(np.mean(ave_angle)*(180/np.pi)) \n",
    "    \n",
    "print len(pol_new)"
   ]
  },
  {
   "cell_type": "code",
   "execution_count": 86,
   "metadata": {
    "collapsed": false
   },
   "outputs": [
    {
     "data": {
      "image/png": "[encoded data removed]",
      "text/plain": [
       "<matplotlib.figure.Figure at 0x109e43090>"
      ]
     },
     "metadata": {},
     "output_type": "display_data"
    }
   ],
   "source": [
    "pol_eff_control = []\n",
    "for x in range(0,180):\n",
    "    radians = x*(np.pi/180)\n",
    "    y = 1-2*(np.mean(radians)/np.pi)\n",
    "    pol_eff_control.append(y)\n",
    "\n",
    "xs = range(0,180)\n",
    "\n",
    "fig = plt.figure()\n",
    "ax1 = fig.add_subplot(111)\n",
    "ax1.scatter(xs, pol_eff_control, c='b')\n",
    "ax1.scatter(angles, pol_eff, c='r')\n",
    "plt.xlim(0,180)\n",
    "plt.ylim(-1,1)\n",
    "plt.show()"
   ]
  },
  {
   "cell_type": "code",
   "execution_count": 319,
   "metadata": {
    "collapsed": false
   },
   "outputs": [
    {
     "data": {
      "image/png": "[encoded data removed]",
      "text/plain": [
       "<matplotlib.figure.Figure at 0x109be33d0>"
      ]
     },
     "metadata": {},
     "output_type": "display_data"
    }
   ],
   "source": [
    "%matplotlib inline\n",
    "fig_size = [5,5]\n",
    "plt.rcParams[\"figure.figsize\"] = fig_size\n",
    "\n",
    "xs = [0,10,20,30,40,50,60,70,80,90,100]\n",
    "\n",
    "fig = plt.figure()\n",
    "ax1 = fig.add_subplot(111)\n",
    "ax1.scatter(xs, non_bias_pol_eff, s=60, c='k', label=\"Model 1\")\n",
    "ax1.scatter(xs, pol_eff, s=60, c='#bebebe', label=\"Model 2\")\n",
    "plt.xlim(-5,105)\n",
    "plt.ylim(-1,1)\n",
    "ax1.legend()\n",
    "ax1.set_yticks(np.arange(-1.0,1,0.25))\n",
    "ax1.set_xticks(np.arange(0,105,10))\n",
    "plt.rc('grid', linestyle=\":\", color='black')\n",
    "plt.tick_params(axis='x',which='both',bottom='on', top='on', labelbottom='off')\n",
    "ax1.yaxis.grid()\n",
    "plt.legend(bbox_to_anchor=(1.05, 1), loc=2, borderaxespad=0.)\n",
    "save_to = '/Users/Kristen/Desktop/12132016/Bias_Models.pdf'\n",
    "plt.savefig(save_to)\n",
    "\n",
    "plt.show()"
   ]
  },
  {
   "cell_type": "code",
   "execution_count": 129,
   "metadata": {
    "collapsed": false
   },
   "outputs": [
    {
     "name": "stdout",
     "output_type": "stream",
     "text": [
      "[0.1333633333333335, 0.12027648559286819, 0.10638473221249689, 0.092942270970840624, 0.078136173266875497, 0.066512958755130969, 0.053804363364791774, 0.04188310218265423, 0.026084768659277779, 0.010799495289869787]\n"
     ]
    }
   ],
   "source": [
    "diffs = []\n",
    "for bias,rand in zip(pol_eff, non_bias_pol_eff):\n",
    "    diff = rand - bias\n",
    "    diffs.append(diff)\n",
    "print diffs"
   ]
  },
  {
   "cell_type": "code",
   "execution_count": 135,
   "metadata": {
    "collapsed": false
   },
   "outputs": [
    {
     "name": "stdout",
     "output_type": "stream",
     "text": [
      "[-0.13843333333333341, -0.05001785009651516, 0.038733270342674597, 0.12896656731700729, 0.21871179492320092, 0.3063306042940972, 0.39421314819224207, 0.48158137002168422, 0.5726820382274036, 0.66354277173110221]\n",
      "[-0.0050699999999999079, 0.070258635496353028, 0.14511800255517149, 0.22190883828784791, 0.29684796819007642, 0.37284356304922817, 0.44801751155703384, 0.52346447220433845, 0.59876680688668138, 0.674342267020972]\n"
     ]
    }
   ],
   "source": [
    "print pol_eff\n",
    "print non_bias_pol_eff"
   ]
  },
  {
   "cell_type": "code",
   "execution_count": 271,
   "metadata": {
    "collapsed": false
   },
   "outputs": [
    {
     "data": {
      "image/png": "[encoded data removed]",
      "text/plain": [
       "<matplotlib.figure.Figure at 0x10a1f4ad0>"
      ]
     },
     "metadata": {},
     "output_type": "display_data"
    }
   ],
   "source": [
    "import os\n",
    "import math\n",
    "\n",
    "%matplotlib inline\n",
    "fig_size = [5,5]\n",
    "plt.rcParams[\"figure.figsize\"] = fig_size\n",
    "\n",
    "\n",
    "bem1_names = ['WYK8308_Control_Pol','WYK8308_001Pulse_Pol','WYK8308_1Pulse_Pol', 'WYK8308_2Pulse_Pol', 'WYK8308_3Pulse_Pol', 'WYK8308_30Sec_Pol','WYK8308_15Sec_Pol', 'WYK8308_10Sec_Pol']\n",
    "cdc24_names = ['WYK8440_Control_Pol','WYK8440_001Pulse_Pol','WYK8440_1Pulse_Pol', 'WYK8440_2Pulse_Pol', 'WYK8440_3Pulse_Pol', 'WYK8440_30Sec_Pol','WYK8440_15Sec_Pol', 'WYK8440_10Sec_Pol']\n",
    "\n",
    "names_for_expt = ['DS377_Expt', 'DS381_PolarizationEff', 'DS382_PolarizationEff', 'WYK8308_Pol_Expt']\n",
    "names_for_control = ['DS377_Control', 'DS381_Control', 'DS382_Control', 'WYK8308_Pol_Control']\n",
    "\n",
    "\n",
    "directory = '/Users/Kristen/Desktop/DATA/FINISHED/Cdc24_Variants_Polarization/Control'\n",
    "all_directories = [name for name in os.listdir(directory)]\n",
    "all_directories = all_directories[1:]\n",
    "\n",
    "extracted_pol = {}\n",
    "extracted_sem = {}\n",
    "extracted_ave = {}\n",
    "for name in all_directories: \n",
    "    curr_dir = os.path.join(directory, name)\n",
    "    for f in os.listdir(curr_dir):\n",
    "        if f == \"new_bud_vs_target.csv\" or f == \"Polarization_Efficiency.csv\":\n",
    "            current_file = os.path.join(curr_dir, f)\n",
    "            data = pd.read_csv(current_file)\n",
    "            rads = np.asarray(data['Radians'])\n",
    "            pol_eff = []\n",
    "            for r in rads:\n",
    "                pol = 1-2*(np.mean(r)/np.pi)\n",
    "                pol_eff.append(pol)\n",
    "            std = np.std(np.asarray(pol_eff))\n",
    "            num_cells = float(len(pol_eff))\n",
    "            sem = std/(math.sqrt(num_cells))\n",
    "            \n",
    "            extracted_pol[name] = pol_eff\n",
    "            extracted_sem[name] = sem\n",
    "            extracted_ave[name] = np.mean(pol_eff)\n",
    "\n",
    "fig = plt.figure()\n",
    "ax = fig.gca()\n",
    "data_pol = []\n",
    "data_ave = []\n",
    "data_sem = []\n",
    "for curr_data in bem1_names:\n",
    "    pol = extracted_pol[curr_data]\n",
    "    data_pol.append(pol)\n",
    "    \n",
    "    ave = extracted_ave[curr_data]\n",
    "    data_ave.append(ave)\n",
    "    \n",
    "    sem = extracted_sem[curr_data]\n",
    "    data_sem.append(sem)\n",
    "    \n",
    "whiskerprops = dict(linestyle='')\n",
    "medianprops = dict(linestyle='')\n",
    "meanlineprops = dict(linestyle='-', color='black')\n",
    "\n",
    "bp = plt.boxplot(data_pol, showbox=False, showcaps=False, meanprops=meanlineprops, meanline=True, showmeans=True, medianprops=medianprops, showfliers=False, whiskerprops=whiskerprops)\n",
    "for i, n in enumerate([1,2,3,4,5,6,7,8]):\n",
    "    #print n\n",
    "    y = data_pol[i]\n",
    "    x = np.random.normal(n, 0.04, size=len(y))\n",
    "    plt.plot(x, y, color='gray', marker='.', linestyle='')\n",
    "\n",
    "#x = np.random.normal([1,2,3,4,5,6,7,8], 0.04, size=len(pol_eff))\n",
    "#plt.plot(x, pol_eff, 'r.')\n",
    "plt.ylim(-1,1)\n",
    "ax.set_xticks(np.arange(1.5,8.5,1))\n",
    "ax.set_yticks(np.arange(-1.0,1,0.25))\n",
    "plt.rc('grid', linestyle=\":\", color='black')\n",
    "ax.yaxis.grid()\n",
    "\n",
    "\n",
    "plt.errorbar([1,2,3,4,5,6,7,8], data_ave, yerr=data_sem, fmt=None, ecolor='k')\n",
    "\n",
    "save_to = '/Users/Kristen/Desktop/12132016/PULSED_POLARIZATION/WYK8308_Pulsed_Polarization/Bem1_PolEff_Scatter.pdf'\n",
    "#plt.savefig(save_to)\n",
    "\n",
    "plt.show()"
   ]
  },
  {
   "cell_type": "code",
   "execution_count": 263,
   "metadata": {
    "collapsed": false
   },
   "outputs": [
    {
     "name": "stdout",
     "output_type": "stream",
     "text": [
      "-0.190579253967\n",
      "-0.190579253967\n"
     ]
    }
   ],
   "source": [
    "diff = [random.uniform((0),(np.pi)) for r in range(100)]\n",
    "\n",
    "pol_1 = np.mean(1-2*(np.asarray(diff)/np.pi))\n",
    "pol_2 = 1-2*(np.mean(diff)/np.pi)\n",
    "print pol_1\n",
    "print pol_2"
   ]
  },
  {
   "cell_type": "code",
   "execution_count": 327,
   "metadata": {
    "collapsed": false
   },
   "outputs": [
    {
     "data": {
      "image/png": "[encoded data removed]",
      "text/plain": [
       "<matplotlib.figure.Figure at 0x10eecdf90>"
      ]
     },
     "metadata": {},
     "output_type": "display_data"
    }
   ],
   "source": [
    "names_for_expt = ['WYK8440_Pol','Cdc24deltaPB1_Pol', 'GEF_Dead_Pol']\n",
    "names_for_control = ['WYK8440_Pol_Control', 'Cdc24deltaPB1_Control', 'GEF_Dead_Control']\n",
    "\n",
    "bem1_expt = ['WYK8308_Pol_Expt','DS377_Expt', 'DS381_PolarizationEff', 'DS382_PolarizationEff']\n",
    "bem1_control = ['WYK8308_Pol_Control', 'DS377_Control', 'DS381_Control', 'DS382_Control']\n",
    "\n",
    "expt_dir = '/Users/Kristen/Desktop/DATA/FINISHED/Cdc24_Variants_Polarization/Expt'\n",
    "control_dir = '/Users/Kristen/Desktop/DATA/FINISHED/Cdc24_Variants_Polarization/Control'\n",
    "\n",
    "def extract_all_data(directory, file_names):\n",
    "    extracted_pol = {}\n",
    "    extracted_sem = {}\n",
    "    extracted_ave = {}\n",
    "    for name in os.listdir(directory): \n",
    "        curr_dir = os.path.join(directory, name)\n",
    "        for f in os.listdir(curr_dir):\n",
    "            #print curr_dir\n",
    "            if f == \"new_bud_vs_target.csv\" or f == \"Polarization_Efficiency.csv\":\n",
    "                current_file = os.path.join(curr_dir, f)\n",
    "                data = pd.read_csv(current_file)\n",
    "                rads = np.asarray(data['Radians'])\n",
    "                pol_eff = []\n",
    "                for r in rads:\n",
    "                    pol = 1-2*(np.mean(r)/np.pi)\n",
    "                    pol_eff.append(pol)\n",
    "                std = np.std(np.asarray(pol_eff))\n",
    "                num_cells = float(len(pol_eff))\n",
    "                sem = std/(math.sqrt(num_cells))\n",
    "            \n",
    "                extracted_pol[name] = pol_eff\n",
    "                extracted_sem[name] = sem\n",
    "                extracted_ave[name] = np.mean(pol_eff)\n",
    "                \n",
    "    data_pol = []\n",
    "    data_ave = []\n",
    "    data_sem = []\n",
    "    for curr_data in file_names:\n",
    "        pol = extracted_pol[curr_data]\n",
    "        data_pol.append(pol)\n",
    "    \n",
    "        ave = extracted_ave[curr_data]\n",
    "        data_ave.append(ave)\n",
    "    \n",
    "        sem = extracted_sem[curr_data]\n",
    "        data_sem.append(sem)\n",
    "    return data_pol, data_ave, data_sem\n",
    "\n",
    "\n",
    "expt_pol, expt_ave, expt_sem = extract_all_data(expt_dir, names_for_expt)\n",
    "control_pol, control_ave, control_sem = extract_all_data(control_dir, names_for_control)\n",
    "\n",
    "expt_positions = [1,4,7]\n",
    "control_positions = [2,5,8]\n",
    "\n",
    "fig = plt.figure()\n",
    "ax = fig.gca()\n",
    "\n",
    "expt_bp = plt.boxplot(expt_pol, positions=expt_positions, showbox=False, showcaps=False, meanprops=meanlineprops, meanline=True, showmeans=True, medianprops=medianprops, showfliers=False, whiskerprops=whiskerprops)\n",
    "control_bp = plt.boxplot(control_pol, positions=control_positions, showbox=False, showcaps=False, meanprops=meanlineprops, meanline=True, showmeans=True, medianprops=medianprops, showfliers=False, whiskerprops=whiskerprops)\n",
    "for i, n in enumerate(expt_positions):\n",
    "    y = expt_pol[i]\n",
    "    x = np.random.normal(n, 0.04, size=len(y))\n",
    "    plt.plot(x, y, color='r', marker='.', linestyle='')\n",
    "    \n",
    "for i, n in enumerate(control_positions):\n",
    "    y = control_pol[i]\n",
    "    x = np.random.normal(n, 0.04, size=len(y))\n",
    "    plt.plot(x, y, color='b', marker='.', linestyle='')\n",
    "    \n",
    "plt.errorbar(expt_positions, expt_ave, yerr=expt_sem, fmt=None, ecolor='k')\n",
    "plt.errorbar(control_positions, control_ave, yerr=control_sem, fmt=None, ecolor='k')\n",
    "    \n",
    "plt.xlim(0,9)\n",
    "plt.ylim(-1,1)\n",
    "ax.set_yticks(np.arange(-1.0,1,0.25))\n",
    "plt.rc('grid', linestyle=\":\", color='black')\n",
    "ax.yaxis.grid()\n",
    "\n",
    "plt.style.use(\"dark_background\")\n",
    "\n",
    "save_to = '/Users/Kristen/Desktop/DATA/FINISHED/Cdc24_Variants_Polarization/Cdc24Variants_PolEff_Scatter.pdf'\n",
    "#plt.savefig(save_to)\n",
    "\n",
    "plt.show()"
   ]
  },
  {
   "cell_type": "code",
   "execution_count": 323,
   "metadata": {
    "collapsed": true
   },
   "outputs": [],
   "source": [
    "os.remove('/Users/Kristen/Desktop/DATA/FINISHED/Cdc24_Variants_Polarization/Control/.DS_Store')"
   ]
  },
  {
   "cell_type": "code",
   "execution_count": 2,
   "metadata": {
    "collapsed": false
   },
   "outputs": [
    {
     "data": {
      "image/png": "[encoded data removed]",
      "text/plain": [
       "<matplotlib.figure.Figure at 0x103c3ad10>"
      ]
     },
     "metadata": {},
     "output_type": "display_data"
    }
   ],
   "source": [
    "%matplotlib inline\n",
    "import matplotlib.pyplot as plt\n",
    "import pandas as pd\n",
    "import os\n",
    "import math\n",
    "import numpy as np\n",
    "\n",
    "\n",
    "cdc24_aves = np.asarray([0.994918024,1.010078671,1.112137858,1.107048428,1.101965875,1.078076392,1.065009316])\n",
    "cdc24_sem = np.asarray([0.002068975,0.002859911,0.006612854,0.007315045,0.006923803,0.007386059,0.00430549])\n",
    "#bem1_aves = np.asarray([0.104,-0.19677372,-0.009990297,0.515494087,0.693333333])\n",
    "#bem1_sem = np.asarray([0.329993939,0.183995626,0.142374284,0.092623438,0.093094934])\n",
    "\n",
    "#cdc24_raw = pd.read_csv('/Users/Kristen/Desktop/PositiveFeedback_Data/Figure6_Done/Cdc24_Transient.csv')\n",
    "#bem1_raw = pd.read_csv('/Users/Kristen/Desktop/PositiveFeedback_Data/Figure6_Done/Data/Bem1_Transient.csv')\n",
    "\n",
    "cdc24_negative_error = np.asarray([a-b for a, b in zip(cdc24_aves, cdc24_sem)])\n",
    "cdc24_positive_error = np.asarray([a+b for a, b in zip(cdc24_aves, cdc24_sem)])\n",
    "\n",
    "#bem1_negative_error = np.asarray([a-b for a, b in zip(bem1_aves, bem1_sem)])\n",
    "#bem1_positive_error = np.asarray([a+b for a, b in zip(bem1_aves, bem1_sem)])\n",
    "\n",
    "xs = [1,2,3,4,5,6,7]\n",
    "\n",
    "fig = plt.figure()\n",
    "ax = fig.gca()\n",
    "#plt.plot(xs, bem1_aves, color=\"#3366cc\", marker='o')\n",
    "plt.plot(xs,cdc24_aves, color=\"k\", marker='o')\n",
    "\n",
    "#plt.plot(xs, negative_error)\n",
    "plt.fill_between(xs, cdc24_negative_error, cdc24_positive_error, alpha=0.15, edgecolor='k', facecolor='k')\n",
    "plt.fill_between(xs, cdc24_negative_error, cdc24_positive_error, alpha=0.15, edgecolor='k', facecolor='k')\n",
    "#plt.fill_between(xs, bem1_negative_error, bem1_positive_error, alpha=0.25, edgecolor='#3366cc', facecolor='#3366cc')\n",
    "#plt.fill_between(xs, bem1_negative_error, bem1_positive_error, alpha=0.25, edgecolor='#3366cc', facecolor='#3366cc')\n",
    "plt.xlim(0,8)\n",
    "plt.ylim(0.95,1.15)\n",
    "ax.set_yticks(np.arange(0.95,1.15,0.05))\n",
    "ax.set_xticks(np.arange(1,8,1))\n",
    "plt.rc('grid', linestyle=\":\", color='black')\n",
    "ax.yaxis.grid()\n",
    "\n",
    "#cdc24_xs = np.asarray(cdc24_raw['Time'])\n",
    "\n",
    "#cdc24_ys = np.asarray(cdc24_raw['Pol'])\n",
    "\n",
    "#bem1_xs = np.asarray(bem1_raw['Time'])\n",
    "\n",
    "#bem1_ys = np.asarray(bem1_raw['Pol'])\n",
    "\n",
    "\n",
    "\n",
    "#for i, n in enumerate(list(cdc24_xs)):\n",
    "    #y = cdc24_ys[i]\n",
    "    #x = np.random.normal(n, 0.04)\n",
    "    #plt.plot(x, y, color='k', marker='.', linestyle='')\n",
    "    \n",
    "#for i, n in enumerate(list(bem1_xs)):\n",
    "    #y = bem1_ys[i]\n",
    "    #x = np.random.normal(n, 0.04)\n",
    "    #plt.plot(x, y, color='#3366cc', marker='.', linestyle='')\n",
    "\n",
    "save_to = '/Users/Kristen/Desktop/pulses/ePDZ_pulses.pdf'\n",
    "plt.savefig(save_to)\n",
    "\n",
    "plt.show()\n",
    "#cdc24_raw.head()"
   ]
  },
  {
   "cell_type": "code",
   "execution_count": null,
   "metadata": {
    "collapsed": false
   },
   "outputs": [],
   "source": [
    "x = np.linspace(0, 30, 30)\n",
    "y = np.sin(x/6*np.pi)\n",
    "error = np.random.normal(0.1, 0.02, size=y.shape) +.1\n",
    "print error\n",
    "y += np.random.normal(0, 0.1, size=y.shape)\n",
    "print y\n",
    "\n",
    "plt.plot(x, y, 'k', color='#CC4F1B')\n",
    "plt.fill_between(x, y-error, y+error,\n",
    "    alpha=0.5, edgecolor='#CC4F1B', facecolor='#FF9848')"
   ]
  },
  {
   "cell_type": "code",
   "execution_count": 3,
   "metadata": {
    "collapsed": false
   },
   "outputs": [
    {
     "name": "stdout",
     "output_type": "stream",
     "text": [
      "0.6358348508 0.491884464813\n",
      "0.167899241 0.632491232199\n",
      "0.00254772149198\n",
      "Statistically Significant\n"
     ]
    }
   ],
   "source": [
    "import pandas as pd\n",
    "import numpy as np\n",
    "import scipy.stats\n",
    "import math\n",
    "\n",
    "cdc24_expt_file = \"/Users/Kristen/Desktop/PositiveFeedback_Data/rsr1_data/8278_dip_polarization/Expt/expt_combined.csv\"\n",
    "cdc24_expt_data = pd.read_csv(cdc24_expt_file)\n",
    "\n",
    "cdc24_control_file = \"/Users/Kristen/Desktop/PositiveFeedback_Data/rsr1_data/8278_dip_polarization/Control/control_combined.csv\"\n",
    "cdc24_control_data = pd.read_csv(cdc24_control_file)\n",
    "\n",
    "def extract_pol_eff_data(df):\n",
    "\n",
    "    target_x = list(df['Targets X'])\n",
    "    bud_x = list(df['Bud X'])\n",
    "    prev_x = list(df['Prev X'])\n",
    "    pol_eff = []\n",
    "    difference = []\n",
    "    rads = []\n",
    "    for targ, bud in zip(target_x, bud_x):\n",
    "        diff = abs(targ - bud)\n",
    "        if diff > 50:\n",
    "            diff = 100 - diff\n",
    "        r = diff*(np.pi/50)\n",
    "        pol = 1-2*(np.mean(r)/np.pi)\n",
    "        pol_eff.append(pol)\n",
    "        difference.append(diff)\n",
    "        rads.append(r)\n",
    "\n",
    "    return pol_eff\n",
    "\n",
    "def find_ave_sem(pol):\n",
    "    std = np.std(np.asarray(pol))\n",
    "    num_cells = float(len(pol))\n",
    "    sem = std/(math.sqrt(num_cells))\n",
    "    ave = np.mean(pol)\n",
    "    median = np.median(pol)\n",
    "    print median, std\n",
    "    return ave, sem\n",
    "\n",
    "cdc24_expt = extract_pol_eff_data(cdc24_expt_data)\n",
    "cdc24_ave, cdc24_sem = find_ave_sem(cdc24_expt)\n",
    "\n",
    "cdc24_control = extract_pol_eff_data(cdc24_control_data)\n",
    "cdc24_control_ave, cdc24_control_sem = find_ave_sem(cdc24_control)\n",
    "\n",
    "stat, pvalue = scipy.stats.mannwhitneyu(cdc24_expt, cdc24_control)\n",
    "print pvalue\n",
    "if pvalue > 0.05:\n",
    "    print \"NS\"\n",
    "else:\n",
    "    print \"Statistically Significant\""
   ]
  },
  {
   "cell_type": "code",
   "execution_count": 5,
   "metadata": {
    "collapsed": false
   },
   "outputs": [
    {
     "name": "stdout",
     "output_type": "stream",
     "text": [
      "0.718588235496 0.389872183901\n",
      "0.05466666641 0.552145436386\n",
      "4.24897014029e-06\n",
      "Statistically Significant\n"
     ]
    }
   ],
   "source": [
    "bem1_expt_file = \"/Users/Kristen/Desktop/PositiveFeedback_Data/rsr1_data/07242016_357rsr1_PolAndControl/Polarization/expt_targets_vs_new_bud.csv\"\n",
    "bem1_control_file = \"/Users/Kristen/Desktop/PositiveFeedback_Data/rsr1_data/07242016_357rsr1_PolAndControl/Control/control_targets_vs_new_bud.csv\"\n",
    "\n",
    "bem1_expt_data = pd.read_csv(bem1_expt_file)\n",
    "bem1_control_data = pd.read_csv(bem1_control_file)\n",
    "\n",
    "def from_rads_get_pol(df):\n",
    "    rads = np.asarray(df['Radians'])\n",
    "    pol_eff = []\n",
    "    for r in rads:\n",
    "        pol = 1-2*(np.mean(r)/np.pi)\n",
    "        pol_eff.append(pol)\n",
    "    return pol_eff\n",
    "\n",
    "bem_expt = from_rads_get_pol(bem1_expt_data)\n",
    "bem_ave, bem_sem = find_ave_sem(bem_expt)\n",
    "\n",
    "bem_control = from_rads_get_pol(bem1_control_data)\n",
    "bem_control_ave, bem_control_sem = find_ave_sem(bem_control)\n",
    "\n",
    "stat, pvalue = scipy.stats.mannwhitneyu(bem_expt, bem_control)\n",
    "print pvalue\n",
    "if pvalue > 0.05:\n",
    "    print \"NS\"\n",
    "else:\n",
    "    print \"Statistically Significant\""
   ]
  },
  {
   "cell_type": "code",
   "execution_count": 482,
   "metadata": {
    "collapsed": false
   },
   "outputs": [
    {
     "data": {
      "image/png": "[encoded data removed]",
      "text/plain": [
       "<matplotlib.figure.Figure at 0x10ec92a10>"
      ]
     },
     "metadata": {},
     "output_type": "display_data"
    }
   ],
   "source": [
    "expt_positions = [1.5,3.5]\n",
    "control_positions = [2,4]\n",
    "\n",
    "expt = [cdc24_expt, bem_expt]\n",
    "control = [cdc24_control, bem_control]\n",
    "\n",
    "expt_sem = [cdc24_sem, bem_sem]\n",
    "control_sem = [cdc24_control_sem, bem_control_sem]\n",
    "\n",
    "fig = plt.figure()\n",
    "ax = fig.gca()\n",
    "\n",
    "expt_bp = plt.boxplot(expt, positions=expt_positions, showbox=False, showcaps=False, meanprops=meanlineprops, meanline=True, showmeans=True, medianprops=medianprops, showfliers=False, whiskerprops=whiskerprops)\n",
    "control_bp = plt.boxplot(control, positions=control_positions, showbox=False, showcaps=False, meanprops=meanlineprops, meanline=True, showmeans=True, medianprops=medianprops, showfliers=False, whiskerprops=whiskerprops)\n",
    "\n",
    "for i, n in enumerate(expt_positions):\n",
    "    y = expt[i]\n",
    "    #print y\n",
    "    x = np.random.normal(n, 0.04, len(y))\n",
    "    plt.plot(x, y, color='r', marker='.', linestyle='')\n",
    "    \n",
    "for i, n in enumerate(control_positions):\n",
    "    y = control[i]\n",
    "    x = np.random.normal(n, 0.04, len(y))\n",
    "    plt.plot(x, y, color='b', marker='.', linestyle='')\n",
    "    \n",
    "plt.errorbar(expt_positions, [cdc24_ave, bem_ave], yerr=expt_sem, fmt=None, ecolor='k')\n",
    "plt.errorbar(control_positions, [cdc24_control_ave, bem_control_ave], yerr=control_sem, fmt=None, ecolor='k')\n",
    "    \n",
    "plt.xlim(1,4.5)\n",
    "plt.ylim(-1,1)\n",
    "ax.set_yticks(np.arange(-1.0,1,0.25))\n",
    "plt.rc('grid', linestyle=\":\", color='black')\n",
    "ax.yaxis.grid()\n",
    "\n",
    "save_to = \"/Users/Kristen/Desktop/rsr1_data/Rsr1_Polarization_Efficiency.pdf\"\n",
    "plt.savefig(save_to)\n",
    "\n",
    "plt.show()"
   ]
  },
  {
   "cell_type": "code",
   "execution_count": 471,
   "metadata": {
    "collapsed": false
   },
   "outputs": [
    {
     "name": "stdout",
     "output_type": "stream",
     "text": [
      "0.208396158045 0.076341950456\n"
     ]
    }
   ],
   "source": [
    "epdz_file = \"/Users/Kristen/Desktop/PositiveFeedback_Data/ePDZ/new_bud_vs_target.csv\"\n",
    "epdz = pd.read_csv(epdz_file)\n",
    "\n",
    "epdz_pol = from_rads_get_pol(epdz)\n",
    "epdz_ave, epdz_sem = find_ave_sem(epdz_pol)\n",
    "print epdz_ave, epdz_sem"
   ]
  },
  {
   "cell_type": "code",
   "execution_count": 477,
   "metadata": {
    "collapsed": false
   },
   "outputs": [
    {
     "name": "stdout",
     "output_type": "stream",
     "text": [
      "5.51328895422\n",
      "4.49666826915\n"
     ]
    }
   ],
   "source": [
    "area = np.pi*math.pow(r,2)\n",
    "\n",
    "r = math.sqrt(300)/np.pi\n",
    "print r\n",
    "\n",
    "#r pixels = 0.0209\n",
    "#0.217 µm per pixel\n",
    "\n",
    "microns = r*0.217\n",
    "\n",
    "area = np.pi*math.pow(microns,2)\n",
    "print area"
   ]
  },
  {
   "cell_type": "code",
   "execution_count": null,
   "metadata": {
    "collapsed": true
   },
   "outputs": [],
   "source": []
  }
 ],
 "metadata": {
  "kernelspec": {
   "display_name": "Python 2",
   "language": "python",
   "name": "python2"
  },
  "language_info": {
   "codemirror_mode": {
    "name": "ipython",
    "version": 2
   },
   "file_extension": ".py",
   "mimetype": "text/x-python",
   "name": "python",
   "nbconvert_exporter": "python",
   "pygments_lexer": "ipython2",
   "version": "2.7.11"
  }
 },
 "nbformat": 4,
 "nbformat_minor": 0
}
