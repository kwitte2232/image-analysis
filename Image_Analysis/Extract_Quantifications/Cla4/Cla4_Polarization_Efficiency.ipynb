{
 "cells": [
  {
   "cell_type": "code",
   "execution_count": null,
   "metadata": {
    "collapsed": true
   },
   "outputs": [],
   "source": [
    "import os\n",
    "import math\n",
    "import pandas as pd\n",
    "\n",
    "%matplotlib inline\n",
    "fig_size = [5,5]\n",
    "plt.rcParams[\"figure.figsize\"] = fig_size\n",
    "\n",
    "\n",
    "bem1_names = ['WYK8308_Control_Pol','WYK8308_001Pulse_Pol','WYK8308_1Pulse_Pol', 'WYK8308_2Pulse_Pol', 'WYK8308_3Pulse_Pol', 'WYK8308_30Sec_Pol','WYK8308_15Sec_Pol', 'WYK8308_10Sec_Pol']\n",
    "\n",
    "\n",
    "names_for_expt = ['DS377_Expt', 'DS381_PolarizationEff', 'DS382_PolarizationEff', 'WYK8308_Pol_Expt']\n",
    "names_for_control = ['DS377_Control', 'DS381_Control', 'DS382_Control', 'WYK8308_Pol_Control']\n",
    "\n",
    "\n",
    "directory = '/Users/Kristen/Desktop/DATA/FINISHED/Cdc24_Variants_Polarization/Control'\n",
    "all_directories = [name for name in os.listdir(directory)]\n",
    "all_directories = all_directories[1:]\n",
    "\n",
    "extracted_pol = {}\n",
    "extracted_sem = {}\n",
    "extracted_ave = {}\n",
    "for name in all_directories: \n",
    "    curr_dir = os.path.join(directory, name)\n",
    "    for f in os.listdir(curr_dir):\n",
    "        if f == \"new_bud_vs_target.csv\" or f == \"Polarization_Efficiency.csv\":\n",
    "            current_file = os.path.join(curr_dir, f)\n",
    "            data = pd.read_csv(current_file)\n",
    "            rads = np.asarray(data['Radians'])\n",
    "            pol_eff = []\n",
    "            for r in rads:\n",
    "                pol = 1-2*(np.mean(r)/np.pi)\n",
    "                pol_eff.append(pol)\n",
    "            std = np.std(np.asarray(pol_eff))\n",
    "            num_cells = float(len(pol_eff))\n",
    "            sem = std/(math.sqrt(num_cells))\n",
    "            \n",
    "            extracted_pol[name] = pol_eff\n",
    "            extracted_sem[name] = sem\n",
    "            extracted_ave[name] = np.mean(pol_eff)\n",
    "\n",
    "fig = plt.figure()\n",
    "ax = fig.gca()\n",
    "data_pol = []\n",
    "data_ave = []\n",
    "data_sem = []\n",
    "for curr_data in bem1_names:\n",
    "    pol = extracted_pol[curr_data]\n",
    "    data_pol.append(pol)\n",
    "    \n",
    "    ave = extracted_ave[curr_data]\n",
    "    data_ave.append(ave)\n",
    "    \n",
    "    sem = extracted_sem[curr_data]\n",
    "    data_sem.append(sem)\n",
    "    \n",
    "whiskerprops = dict(linestyle='')\n",
    "medianprops = dict(linestyle='')\n",
    "meanlineprops = dict(linestyle='-', color='black')\n",
    "\n",
    "bp = plt.boxplot(data_pol, showbox=False, showcaps=False, meanprops=meanlineprops, meanline=True, showmeans=True, medianprops=medianprops, showfliers=False, whiskerprops=whiskerprops)\n",
    "for i, n in enumerate([1,2,3,4,5,6,7,8]):\n",
    "    #print n\n",
    "    y = data_pol[i]\n",
    "    x = np.random.normal(n, 0.04, size=len(y))\n",
    "    plt.plot(x, y, color='gray', marker='.', linestyle='')\n",
    "\n",
    "#x = np.random.normal([1,2,3,4,5,6,7,8], 0.04, size=len(pol_eff))\n",
    "#plt.plot(x, pol_eff, 'r.')\n",
    "plt.ylim(-1,1)\n",
    "ax.set_xticks(np.arange(1.5,8.5,1))\n",
    "ax.set_yticks(np.arange(-1.0,1,0.25))\n",
    "plt.rc('grid', linestyle=\":\", color='black')\n",
    "ax.yaxis.grid()\n",
    "\n",
    "\n",
    "plt.errorbar([1,2,3,4,5,6,7,8], data_ave, yerr=data_sem, fmt=None, ecolor='k')\n",
    "\n",
    "save_to = '/Users/Kristen/Desktop/12132016/PULSED_POLARIZATION/WYK8308_Pulsed_Polarization/Bem1_PolEff_Scatter.pdf'\n",
    "#plt.savefig(save_to)\n",
    "\n",
    "plt.show()"
   ]
  },
  {
   "cell_type": "code",
   "execution_count": 4,
   "metadata": {
    "collapsed": false
   },
   "outputs": [
    {
     "name": "stdout",
     "output_type": "stream",
     "text": [
      "['F15A_3pulse', 'F15A_F451A_3pulse', 'F451A_3pulse', 'F451A_3pulse_2', 'F451A_K594A_3pulse', 'K594A_3pulse', 'wt_3pulse', 'wt_control']\n"
     ]
    }
   ],
   "source": [
    "import os\n",
    "\n",
    "directory = \"/Users/Kristen/Desktop/cla4_variants/Bem1\"\n",
    "directories = os.listdir(directory)\n",
    "#print directories[1:]\n",
    "\n",
    "cla4 = \"/Users/Kristen/Desktop/cla4_variants/Cla4_alone\"\n",
    "cla4_dirs = os.listdir(cla4)\n",
    "print cla4_dirs[1:]"
   ]
  },
  {
   "cell_type": "code",
   "execution_count": 48,
   "metadata": {
    "collapsed": false
   },
   "outputs": [
    {
     "name": "stdout",
     "output_type": "stream",
     "text": [
      "1\n",
      "3\n",
      "4\n",
      "5\n",
      "6\n",
      "7\n",
      "2\n"
     ]
    },
    {
     "data": {
      "image/png": "[encoded data removed]",
      "text/plain": [
       "<matplotlib.figure.Figure at 0x103a99050>"
      ]
     },
     "metadata": {},
     "output_type": "display_data"
    }
   ],
   "source": [
    "%matplotlib inline\n",
    "import math\n",
    "import pandas as pd\n",
    "import numpy as np\n",
    "import matplotlib.pyplot as plt\n",
    "\n",
    "co_recruit_bem1 = ['wt_bem1_1pulse','K594A_Bem1_1pulse', 'F15A_Bem1_1pulse', \n",
    "                   'F451A_Bem1_1pulse', 'F15A_F451A_Bem1_1pulse','F451A_K594A_Bem1_1pulse']\n",
    "\n",
    "cla4_alone = ['wt_3pulse', 'K594A_3pulse', 'F15A_3pulse', \n",
    "              'F451A_3pulse', 'F15A_F451A_3pulse', 'F451A_K594A_3pulse']\n",
    "\n",
    "cla4_control = ['wt_control']\n",
    "\n",
    "cla4 = \"/Users/Kristen/Desktop/cla4_variants/Cla4_alone\"\n",
    "all_directories = os.listdir(cla4)\n",
    "all_directories = all_directories[1:]\n",
    "\n",
    "def extract_polarization_data(file_names, root_directory):\n",
    "    extracted_pol = {}\n",
    "    extracted_sem = {}\n",
    "    extracted_ave = {}\n",
    "    for name in file_names: \n",
    "        curr_dir = os.path.join(root_directory, name)\n",
    "        for f in os.listdir(curr_dir):\n",
    "            if f.endswith(\".csv\"):\n",
    "                current_file = os.path.join(curr_dir, f)\n",
    "                data = pd.read_csv(current_file)\n",
    "                data = data[data[\"pol eff\"] != \"#VALUE!\"]\n",
    "                data[\"pol eff\"] = data[\"pol eff\"].astype(float)\n",
    "                pol_eff = np.asarray(data['pol eff'])\n",
    "                #print pol_eff\n",
    "\n",
    "                std = np.std(np.asarray(pol_eff))\n",
    "                num_cells = float(len(pol_eff))\n",
    "                sem = std/(math.sqrt(num_cells))\n",
    "            \n",
    "                extracted_pol[name] = pol_eff\n",
    "                extracted_sem[name] = sem\n",
    "                extracted_ave[name] = np.mean(pol_eff)\n",
    "            \n",
    "    return extracted_pol, extracted_sem, extracted_ave \n",
    "\n",
    "def collect_data(polarization, average, std_error, file_names):\n",
    "    data_pol = []\n",
    "    data_ave = []\n",
    "    data_sem = []\n",
    "    for curr_data in file_names:\n",
    "        pol = polarization[curr_data]\n",
    "        data_pol.append(pol)\n",
    "    \n",
    "        ave = average[curr_data]\n",
    "        data_ave.append(ave)\n",
    "    \n",
    "        sem = std_error[curr_data]\n",
    "        data_sem.append(sem)\n",
    "        \n",
    "    return data_pol, data_ave, data_sem\n",
    "\n",
    "pol, sem, ave = extract_polarization_data(cla4_alone, cla4)\n",
    "control_pol, control_sem, control_ave = extract_polarization_data(cla4_control, cla4)\n",
    "\n",
    "data_pol, data_ave, data_sem = collect_data(pol, ave, sem, cla4_alone)\n",
    "con_pol, con_ave, con_sem = collect_data(control_pol, control_ave, control_sem, cla4_control)\n",
    "\n",
    "expt_positions = [1,3,4,5,6,7]\n",
    "control_positions = [2]\n",
    "\n",
    "fig = plt.figure()\n",
    "ax = fig.gca()\n",
    "whiskerprops = dict(linestyle='')\n",
    "medianprops = dict(linestyle='')\n",
    "meanlineprops = dict(linestyle='-', color='black')\n",
    "\n",
    "control_bp = plt.boxplot(con_pol, positions=control_positions, showbox=False, showcaps=False, meanprops=meanlineprops, meanline=True, showmeans=True, medianprops=medianprops, showfliers=False, whiskerprops=whiskerprops)\n",
    "expt_bp = plt.boxplot(data_pol, positions=expt_positions, showbox=False, showcaps=False, meanprops=meanlineprops, meanline=True, showmeans=True, medianprops=medianprops, showfliers=False, whiskerprops=whiskerprops)\n",
    "\n",
    "for i, n in enumerate(expt_positions):\n",
    "    print n\n",
    "    y = data_pol[i]\n",
    "    x = np.random.normal(n, 0.04, size=len(y))\n",
    "    plt.plot(x, y, color='red', marker='.', linestyle='')   \n",
    "\n",
    "for i, n in enumerate(control_positions):\n",
    "    print n\n",
    "    y = con_pol[i]\n",
    "    x = np.random.normal(n, 0.04, size=len(y))\n",
    "    plt.plot(x, y, color='blue', marker='.', linestyle='')\n",
    "    \n",
    "plt.errorbar(expt_positions, data_ave, yerr=data_sem, fmt=None, ecolor='k')\n",
    "plt.errorbar(control_positions, con_ave, yerr=con_sem, fmt=None, ecolor='k')\n",
    "\n",
    "plt.ylim(-1,1)\n",
    "ax.set_yticks(np.arange(-1.0,1,0.25))\n",
    "plt.rc('grid', linestyle=\":\", color='black')\n",
    "ax.yaxis.grid()\n",
    "\n",
    "save_to = \"/Users/Kristen/Desktop/cla4_variants/Cla4_alone/Cla4_Alone_Polarization_Efficiency.pdf\"\n",
    "plt.savefig(save_to)\n",
    "\n",
    "plt.show()"
   ]
  },
  {
   "cell_type": "code",
   "execution_count": 54,
   "metadata": {
    "collapsed": false
   },
   "outputs": [
    {
     "name": "stdout",
     "output_type": "stream",
     "text": [
      "{'F451A_K594A_Bem1_1pulse': 0.4342043680980392, 'wt_bem1_1pulse': 0.31609305629090906, 'F15A_F451A_Bem1_1pulse': 0.29391631256790124, 'F451A_Bem1_1pulse': 0.67375613375471699, 'K594A_Bem1_1pulse': 0.19912132168571431, 'F15A_Bem1_1pulse': 0.22979843029508196}\n",
      "1\n",
      "2\n",
      "3\n",
      "4\n",
      "5\n",
      "6\n"
     ]
    },
    {
     "data": {
      "image/png": "[encoded data removed]",
      "text/plain": [
       "<matplotlib.figure.Figure at 0x107af34d0>"
      ]
     },
     "metadata": {},
     "output_type": "display_data"
    }
   ],
   "source": [
    "co_recruit_bem1 = ['wt_bem1_1pulse','K594A_Bem1_1pulse', 'F15A_Bem1_1pulse', \n",
    "                   'F451A_Bem1_1pulse', 'F15A_F451A_Bem1_1pulse','F451A_K594A_Bem1_1pulse']\n",
    "\n",
    "with_bem1 = \"/Users/Kristen/Desktop/cla4_variants/Bem1\"\n",
    "\n",
    "pol, sem, ave = extract_polarization_data(co_recruit_bem1, with_bem1)\n",
    "print ave\n",
    "data_pol, data_ave, data_sem = collect_data(pol, ave, sem, co_recruit_bem1)\n",
    "\n",
    "expt_positions = [1,2,3,4,5,6]\n",
    "\n",
    "fig = plt.figure()\n",
    "ax = fig.gca()\n",
    "whiskerprops = dict(linestyle='')\n",
    "medianprops = dict(linestyle='')\n",
    "meanlineprops = dict(linestyle='-', color='black')\n",
    "\n",
    "expt_bp = plt.boxplot(data_pol, positions=expt_positions, showbox=False, showcaps=False, meanprops=meanlineprops, meanline=True, showmeans=True, medianprops=medianprops, showfliers=False, whiskerprops=whiskerprops)\n",
    "\n",
    "for i, n in enumerate(expt_positions):\n",
    "    print n\n",
    "    y = data_pol[i]\n",
    "    x = np.random.normal(n, 0.04, size=len(y))\n",
    "    plt.plot(x, y, color='red', marker='.', linestyle='')\n",
    "    \n",
    "plt.errorbar(expt_positions, data_ave, yerr=data_sem, fmt=None, ecolor='k')\n",
    "\n",
    "plt.ylim(-1,1)\n",
    "ax.set_yticks(np.arange(-1.0,1,0.25))\n",
    "plt.rc('grid', linestyle=\":\", color='black')\n",
    "ax.yaxis.grid()\n",
    "\n",
    "save_to = \"/Users/Kristen/Desktop/cla4_variants/Bem1/Cla4_Bem1_Polarization_Efficiency.pdf\"\n",
    "plt.savefig(save_to)\n",
    "\n",
    "plt.show()"
   ]
  },
  {
   "cell_type": "code",
   "execution_count": null,
   "metadata": {
    "collapsed": true
   },
   "outputs": [],
   "source": []
  }
 ],
 "metadata": {
  "kernelspec": {
   "display_name": "Python 2",
   "language": "python",
   "name": "python2"
  },
  "language_info": {
   "codemirror_mode": {
    "name": "ipython",
    "version": 2
   },
   "file_extension": ".py",
   "mimetype": "text/x-python",
   "name": "python",
   "nbconvert_exporter": "python",
   "pygments_lexer": "ipython2",
   "version": "2.7.11"
  }
 },
 "nbformat": 4,
 "nbformat_minor": 0
}
