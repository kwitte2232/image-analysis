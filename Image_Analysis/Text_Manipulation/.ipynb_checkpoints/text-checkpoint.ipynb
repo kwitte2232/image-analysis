{
 "cells": [
  {
   "cell_type": "code",
   "execution_count": 3,
   "metadata": {
    "collapsed": true
   },
   "outputs": [],
   "source": [
    "directory = \"/Users/Kristen/Desktop/Cell_6\"\n",
    "filename = \"intensities.csv\""
   ]
  },
  {
   "cell_type": "code",
   "execution_count": 2,
   "metadata": {
    "collapsed": true
   },
   "outputs": [],
   "source": [
    "def rename(directory):\n",
    "    '''\n",
    "    Renames Regions files in the regions folder. want to edit so that it also makes the regions folder\n",
    "    '''\n",
    "    for num in experiments:\n",
    "        curr_dir = \"Cell\"+num+\"/\"\n",
    "        for dir_name, regions_dir, dir_files in os.walk(directory):\n",
    "            for regions_name in regions_dir:\n",
    "                if (dir_name+\"/\"+regions_name+\"/\") == (dir_name+\"/\"+curr_dir):\n",
    "                    for root, dirs, files in os.walk(dir_name+\"/\"+regions_name+\"/\"):\n",
    "                        for f in files:\n",
    "                            file_name = list(f)\n",
    "                            if file_name[10] != \".\":\n",
    "                                file_name.insert(8,\"0\")\n",
    "                                new_name = \"\".join(file_name)\n",
    "                                os.rename(dir_name+\"/\"+curr_dir+f, dir_name+\"/\"+curr_dir+new_name)\n",
    "                                \n",
    "    return None"
   ]
  },
  {
   "cell_type": "code",
   "execution_count": 8,
   "metadata": {
    "collapsed": false
   },
   "outputs": [],
   "source": [
    "def rename_test(directory, filename, name_add):\n",
    "    for dir_name, regions_dir, dir_files in os.walk(directory):\n",
    "        for f in dir_files:\n",
    "            if f == filename:\n",
    "                new_name = name_add + \"_\" + f\n",
    "                src = dir_name + \"/\" + f\n",
    "                dest = dir_name + \"/\" + new_name\n",
    "                os.rename(src, dest)\n",
    "    return None"
   ]
  },
  {
   "cell_type": "code",
   "execution_count": 9,
   "metadata": {
    "collapsed": false
   },
   "outputs": [],
   "source": [
    "import os\n",
    "rename_test(directory, filename, \"Target\")"
   ]
  },
  {
   "cell_type": "code",
   "execution_count": 16,
   "metadata": {
    "collapsed": false
   },
   "outputs": [],
   "source": [
    "import os\n",
    "directory = \"/Users/Kristen/Desktop/06212016_WYK8440_Scaled_plusG1/10_seconds_4/processedImages/\"\n",
    "\n",
    "def rename_intensities(directory, file_name, name_add):\n",
    "    for root, cell_dirs, files in os.walk(directory):\n",
    "        #print cell_dirs\n",
    "        for cell in cell_dirs:\n",
    "            curr_cell = directory + cell\n",
    "            for cell_root, dirs, curr_cell_files in os.walk(curr_cell):\n",
    "                #print cell_root\n",
    "                #print curr_cell_files\n",
    "                for files in curr_cell_files:\n",
    "                    if files == file_name:\n",
    "                        new_name = name_add + '_' + files\n",
    "                        src = root + cell + \"/\" + files\n",
    "                        #print src\n",
    "                        dest = root + cell + \"/\" + new_name\n",
    "                        #print dest\n",
    "                        os.rename(src, dest)\n",
    "    return None"
   ]
  },
  {
   "cell_type": "code",
   "execution_count": 38,
   "metadata": {
    "collapsed": false
   },
   "outputs": [],
   "source": [
    "d = '/Users/Kristen/Desktop/06212016_WYK8440_Scaled_plusG1/06152016_WYK8440_ScaleIllumination/15sec_pulses/15sec_pulses_expt3/processedImages/' \n",
    "rename_intensities(d, 'intensities.csv', 'Targets')"
   ]
  },
  {
   "cell_type": "code",
   "execution_count": 22,
   "metadata": {
    "collapsed": true
   },
   "outputs": [],
   "source": [
    "import re\n",
    "import os\n",
    "import shutil"
   ]
  },
  {
   "cell_type": "code",
   "execution_count": 9,
   "metadata": {
    "collapsed": false
   },
   "outputs": [
    {
     "data": {
      "text/plain": [
       "'n'"
      ]
     },
     "execution_count": 9,
     "metadata": {},
     "output_type": "execute_result"
    }
   ],
   "source": [
    "experiments = [\"03\", \"04\", \"05\", \"06\", \"07\", \"08\", \"09\", \"10\", \"11\", \"12\", \"13\", \"14\", \"15\", \"16\"]\n",
    "\n",
    "\n",
    "#for num in experiments:\n",
    "    #curr_expt = \"Exp\"+num\n",
    "    #new_dir = \"Regions\"+num\n",
    "    #for dir_name, field_dir, dir_files in os.walk(directory):\n",
    "        #if dir_name == directory:\n",
    "            #for files in dir_files:\n",
    "                #if re.search(curr_expt, files):\n",
    "                    #shutil.move(dir_name+\"/\"+files, dir_name+\"/\"+new_dir+\"/\"+files)\n",
    "                    \n",
    "#for num in experiments:\n",
    "    #curr_dir = \"Regions\"+num+\"/\"\n",
    "    #for dir_name, regions_dir, dir_files in os.walk(directory):\n",
    "        #for regions_name in regions_dir:\n",
    "            #if (dir_name+\"/\"+regions_name+\"/\") == (dir_name+\"/\"+curr_dir):\n",
    "                #for root, dirs, files in os.walk(dir_name+\"/\"+regions_name+\"/\"):\n",
    "                    #for f in files:\n",
    "                        #file_name = list(f)\n",
    "                        #if file_name[10] != \".\":\n",
    "                            #file_name.insert(8,\"0\")\n",
    "                            #new_name = \"\".join(file_name)\n",
    "                            #os.rename(dir_name+\"/\"+curr_dir+f, dir_name+\"/\"+curr_dir+new_name)\n",
    "                            \n",
    "s = 'this _string'\n",
    "s[10]"
   ]
  },
  {
   "cell_type": "code",
   "execution_count": 8,
   "metadata": {
    "collapsed": false
   },
   "outputs": [
    {
     "name": "stdout",
     "output_type": "stream",
     "text": [
      "/Users/Kristen/Desktop/Cell_6/Regions06\n"
     ]
    }
   ],
   "source": [
    "curr_dir = \"/Users/Kristen/Desktop/Cell_6\"\n",
    "\n",
    "def make_rgn_dir(d, num):\n",
    "    rgn_dir = d + \"/Regions\" + num\n",
    "    if not os.path.exists(rgn_dir):\n",
    "        os.makedirs(rgn_dir)\n",
    "        \n",
    "    return None\n",
    "\n",
    "make_rgn_dir(curr_dir, \"06\")"
   ]
  },
  {
   "cell_type": "code",
   "execution_count": 31,
   "metadata": {
    "collapsed": false
   },
   "outputs": [],
   "source": [
    "def move_rename_rgn_files(d):\n",
    "    for f in os.listdir(d):\n",
    "        if f.endswith(\".rgn\"): #change to re?\n",
    "            numbers = re.findall('\\d+', f)\n",
    "            expt_num = numbers[0]\n",
    "            new_name = f\n",
    "            if f[10] != \".\":\n",
    "                file_name = list(f)\n",
    "                file_name.insert(8,\"0\")\n",
    "                new_name = \"\".join(file_name)\n",
    "            src = d + '/' + f\n",
    "            dest = d + '/' + \"Regions\" + expt_num + '/' + new_name\n",
    "            print src\n",
    "            print dest\n",
    "            os.rename(src, dest)\n",
    "    return None\n",
    "\n",
    "#move_rename_rgn_files(curr_dir)\n",
    "\n",
    "\n",
    "curr_dir = \"/Users/Kristen/Desktop/07272016_8440_PolPulses\" \n",
    "\n",
    "\n",
    "def move_files(d):\n",
    "    for f in os.listdir(d):\n",
    "        numbers = re.findall('\\d+', f)\n",
    "        if numbers:\n",
    "            expt_num = numbers[0]\n",
    "            expt = 'Expt' + expt_num\n",
    "            if f.endswith(\".rgn\"):\n",
    "                src, dest = rename_rgn_files(d, f, expt)\n",
    "                os.rename(src, dest)\n",
    "            elif f.endswith('.stk'): #actually .stk\n",
    "                src = os.path.join(d, f)\n",
    "                dest_sub = os.path.join(d, expt)\n",
    "                dest = os.path.join(dest_sub, f)\n",
    "                os.rename(src, dest)\n",
    "                    \n",
    "    return None\n",
    "\n",
    "def rename_rgn_files(d, f, expt):\n",
    "    numbers = re.findall('\\d+', f)\n",
    "    expt_num = numbers[0]\n",
    "    new_name = f\n",
    "    if f[10] != \".\":\n",
    "        file_name = list(f)\n",
    "        file_name.insert(8,\"0\")\n",
    "        new_name = \"\".join(file_name)\n",
    "    \n",
    "    src = os.path.join(d, f)\n",
    "    dest_sub = os.path.join(d, expt)\n",
    "    rgn = make_rgn_dir(dest_sub, expt_num)\n",
    "    \n",
    "    dest_rgn = os.path.join(dest_sub, rgn)\n",
    "    dest = os.path.join(dest_rgn, new_name)\n",
    "    \n",
    "    return src, dest\n",
    "\n",
    "def make_rgn_dir(d, num):\n",
    "    rgn_dir = os.path.join(d, \"Regions\" + num)\n",
    "    if not os.path.exists(rgn_dir):\n",
    "        os.makedirs(rgn_dir)\n",
    "        \n",
    "    return rgn_dir\n",
    "\n",
    "move_files(curr_dir)"
   ]
  },
  {
   "cell_type": "markdown",
   "metadata": {},
   "source": []
  },
  {
   "cell_type": "code",
   "execution_count": 19,
   "metadata": {
    "collapsed": true
   },
   "outputs": [],
   "source": [
    "def rename_files(directory, file_name):\n",
    "\n",
    "    for dir_name, field_dir, dir_files in os.walk(directory):\n",
    "        for files in dir_files:\n",
    "            if files.endswith(\".csv\"):\n",
    "                #print(\"dir_name \", dir_name)\n",
    "                #src = dir_name + \"/\" + files\n",
    "                new_name = file_name + files\n",
    "                src = os.path.join(dir_name, files)\n",
    "                dest = os.path.join(dir_name, new_name)\n",
    "                #print \"src: \", src\n",
    "                #print \"dest: \", dest\n",
    "                os.rename(src, dest)\n",
    "\n",
    "    return None\n",
    "\n",
    "def fix_rgn_files(directory):\n",
    "    \n",
    "    for f in os.listdir(directory):\n",
    "        numbers = re.findall('\\d+', f)\n",
    "        rgn_number = numbers[1]\n",
    "        new_name = f\n",
    "        if len(rgn_number) < 4:\n",
    "            file_name = list(f)\n",
    "            file_name.insert(8,\"00\")\n",
    "            new_name = \"\".join(file_name)\n",
    "    \n",
    "        src = os.path.join(directory, f)\n",
    "        dest = os.path.join(directory, new_name)\n",
    "        os.rename(src, dest)\n",
    "    \n",
    "    return None\n",
    "    \n",
    "def rename_rgn_files(d, f, expt):\n",
    "    numbers = re.findall('\\d+', f)\n",
    "    expt_num = numbers[0]\n",
    "    new_name = f\n",
    "    if f[10] != \".\":\n",
    "        file_name = list(f)\n",
    "        file_name.insert(8,\"0\")\n",
    "        new_name = \"\".join(file_name)\n",
    "    \n",
    "    src = os.path.join(d, f)\n",
    "    dest_sub = os.path.join(d, expt)\n",
    "    rgn = make_rgn_dir(dest_sub, expt_num)\n",
    "    \n",
    "    dest_rgn = os.path.join(dest_sub, rgn)\n",
    "    dest = os.path.join(dest_rgn, new_name)\n",
    "    \n",
    "    return src, dest"
   ]
  },
  {
   "cell_type": "code",
   "execution_count": 33,
   "metadata": {
    "collapsed": false
   },
   "outputs": [],
   "source": [
    "d = '/Users/Kristen/Desktop/07242016_357rsr1_PolAndControl/07252016_357rsr1_ConAndPol/Expt02/Regions02'\n",
    "file_name = \"Targets_\"\n",
    "\n",
    "fix_rgn_files(d)"
   ]
  },
  {
   "cell_type": "code",
   "execution_count": null,
   "metadata": {
    "collapsed": true
   },
   "outputs": [],
   "source": []
  }
 ],
 "metadata": {
  "kernelspec": {
   "display_name": "Python 2",
   "language": "python",
   "name": "python2"
  },
  "language_info": {
   "codemirror_mode": {
    "name": "ipython",
    "version": 2
   },
   "file_extension": ".py",
   "mimetype": "text/x-python",
   "name": "python",
   "nbconvert_exporter": "python",
   "pygments_lexer": "ipython2",
   "version": "2.7.11"
  }
 },
 "nbformat": 4,
 "nbformat_minor": 0
}
