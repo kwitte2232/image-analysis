{
 "cells": [
  {
   "cell_type": "markdown",
   "metadata": {},
   "source": [
    "The functions below generate values for the models referred to in Figure 1 - Supplemental Figure 2."
   ]
  },
  {
   "cell_type": "code",
   "execution_count": 14,
   "metadata": {
    "collapsed": false
   },
   "outputs": [
    {
     "name": "stdout",
     "output_type": "stream",
     "text": [
      "Done\n"
     ]
    }
   ],
   "source": [
    "import random\n",
    "import numpy as np\n",
    "\n",
    "def run_bias_once(total_n, pol_number, average):\n",
    "    \n",
    "    diff_respond = [random.uniform((0),(45)) for r in range(pol_number)]\n",
    "    n = total_n - pol_number\n",
    "    if n > 0:\n",
    "        diff_no_respond = generate_average(n, average)\n",
    "        diff = diff_respond + diff_no_respond\n",
    "    elif n == 0:\n",
    "        diff = diff_respond\n",
    "    rads = [x*(np.pi/180) for x in diff]\n",
    "    \n",
    "    return rads\n",
    "\n",
    "def generate_average(n, expected_avg, a=46, b=180):\n",
    "    \n",
    "    while True:\n",
    "        l = [random.randint(a, b) for i in range(n)]\n",
    "        avg = reduce(lambda x, y: x + y, l) / len(l)\n",
    "        if avg == expected_avg:\n",
    "            return l\n",
    "        \n",
    "def simulation(x, total_n, pol_number, average):\n",
    "    \n",
    "    values = []\n",
    "    for i in range(x):\n",
    "        theta = run_bias_once(total_n, pol_number, average)\n",
    "        values.append(theta)\n",
    "    pol = 1 - 2*(np.mean(values)/np.pi)\n",
    "    return pol\n",
    "\n",
    "pol_eff = []\n",
    "for i in range(11):\n",
    "    pol = simulation(1000,10,i,102)\n",
    "    pol_eff.append(pol)\n",
    "\n",
    "non_bias_pol_eff = []\n",
    "for i in range(11):\n",
    "    pol_non_bias = simulation(1000,10,i,90)\n",
    "    non_bias_pol_eff.append(pol_non_bias)\n",
    "    \n",
    "print 'Done'"
   ]
  },
  {
   "cell_type": "markdown",
   "metadata": {},
   "source": [
    "The code below shows the output of the functions above in a graphical representation. This graph is shown in Figure 1 - Supplemental Figure 2D."
   ]
  },
  {
   "cell_type": "code",
   "execution_count": 15,
   "metadata": {
    "collapsed": false
   },
   "outputs": [
    {
     "data": {
      "image/png": "[encoded data removed]",
      "text/plain": [
       "<matplotlib.figure.Figure at 0x107a2b110>"
      ]
     },
     "metadata": {},
     "output_type": "display_data"
    }
   ],
   "source": [
    "%matplotlib inline\n",
    "import matplotlib.pyplot as plt\n",
    "\n",
    "fig_size = [5,5]\n",
    "plt.rcParams[\"figure.figsize\"] = fig_size\n",
    "\n",
    "xs = range(0,110,10)\n",
    "\n",
    "fig = plt.figure()\n",
    "ax1 = fig.add_subplot(111)\n",
    "ax1.scatter(xs, non_bias_pol_eff, s=60, c='k', label=\"Model 1\")\n",
    "ax1.scatter(xs, pol_eff, s=60, c='#bebebe', label=\"Model 2\")\n",
    "plt.xlim(-5,105)\n",
    "plt.ylim(-1,1)\n",
    "plt.ylabel(\"Polarization Efficiency\")\n",
    "plt.xlabel(\"Percent Responding Cells\")\n",
    "\n",
    "ax1.set_yticks(np.arange(-1.0,1,0.25))\n",
    "ax1.set_xticks(np.arange(0,105,10))\n",
    "\n",
    "plt.rc('grid', linestyle=\":\", color='k')\n",
    "ax1.yaxis.grid()\n",
    "\n",
    "plt.legend(bbox_to_anchor=(1.05, 1), loc=2, borderaxespad=0.)\n",
    "\n",
    "plt.show()"
   ]
  },
  {
   "cell_type": "code",
   "execution_count": null,
   "metadata": {
    "collapsed": true
   },
   "outputs": [],
   "source": []
  }
 ],
 "metadata": {
  "kernelspec": {
   "display_name": "Python 2",
   "language": "python",
   "name": "python2"
  },
  "language_info": {
   "codemirror_mode": {
    "name": "ipython",
    "version": 2
   },
   "file_extension": ".py",
   "mimetype": "text/x-python",
   "name": "python",
   "nbconvert_exporter": "python",
   "pygments_lexer": "ipython2",
   "version": "2.7.11"
  }
 },
 "nbformat": 4,
 "nbformat_minor": 0
}
