{
 "cells": [
  {
   "cell_type": "markdown",
   "metadata": {},
   "source": [
    "## Building the Polarization Simulation and Deriving the Polarization Efficiency Equation"
   ]
  },
  {
   "cell_type": "code",
   "execution_count": 1,
   "metadata": {
    "collapsed": true
   },
   "outputs": [],
   "source": [
    "import random\n",
    "import numpy as np\n",
    "import scipy.stats\n",
    "import math\n",
    "import matplotlib.pyplot as plt\n",
    "%matplotlib inline\n",
    "\n",
    "\n",
    "def run_360_simulation(x):\n",
    "    pol_eff_aves = []\n",
    "    for i in range(x):\n",
    "        ave = run_once_360()\n",
    "        pol_eff_aves.append(ave)\n",
    "    #print pol_eff_aves\n",
    "    final_ave = np.mean(pol_eff_aves)\n",
    "    return final_ave\n",
    "\n",
    "def run_180_simulation(x):\n",
    "    pol_eff_aves = []\n",
    "    all_cos = []\n",
    "    for i in range(x):\n",
    "        ave, cos = run_once_180()\n",
    "        pol_eff_aves.append(ave)\n",
    "        all_cos.append(cos)\n",
    "    final_ave = np.mean(pol_eff_aves)\n",
    "    return final_ave, all_cos\n",
    "\n",
    "def run_once_360():\n",
    "    \n",
    "    bud = [random.uniform((-180),(180)) for r in xrange(200)]\n",
    "    target = [random.uniform((-180),(180)) for r in xrange(200)]\n",
    "    \n",
    "    plt.scatter(np.asarray(bud), np.asarray(target))\n",
    "    plt.xlim(-180,180)\n",
    "    plt.ylim(-180,180)\n",
    "    plt.show()\n",
    "\n",
    "    cos_values = []\n",
    "    diff = []\n",
    "    for x,y in zip(bud, target):\n",
    "        curr_diff = abs(x-y)\n",
    "        #curr_diff = x-y\n",
    "        diff.append(curr_diff)\n",
    "        rads = curr_diff*(np.pi/180)\n",
    "        curr_cos = math.cos(rads)\n",
    "        cos_values.append(curr_cos)\n",
    "    \n",
    "    plt.scatter(np.asarray(diff), np.asarray(cos_values))\n",
    "    plt.xlim(-180,180)\n",
    "    plt.ylim(-1,1)\n",
    "    plt.show()\n",
    "    \n",
    "    ave = np.mean(cos_values)\n",
    "    return ave\n",
    "    \n",
    "def run_once_180():\n",
    "    \n",
    "    bud = [random.uniform((-40),(40)) for r in xrange(30)]\n",
    "    target_first = [random.uniform((30),(150)) for r  in xrange(30)] \n",
    "    \n",
    "    target = [x+0 for x in target_first]\n",
    "\n",
    "    cos_values = []\n",
    "    diff = []\n",
    "    for x,y in zip(bud, target):\n",
    "        curr_diff = abs(x-y)\n",
    "        #curr_diff = x-y\n",
    "        diff.append(curr_diff)\n",
    "        rads = curr_diff*(np.pi/180)\n",
    "        curr_cos = math.cos(rads)\n",
    "        cos_values.append(curr_cos)\n",
    "    \n",
    "    \n",
    "    #plt.scatter(np.asarray(bud), np.asarray(target))\n",
    "    #plt.xlim(-90,90)\n",
    "    #plt.ylim(-90,90)\n",
    "    #plt.xlabel('Bud vs Target')\n",
    "    #plt.show()\n",
    "    \n",
    "    #plt.scatter(np.asarray(target), np.asarray(diff))\n",
    "    #plt.xlim(-90,90)\n",
    "    #plt.ylim(-90,90)\n",
    "    #plt.xlabel('Target vs Diff')\n",
    "    #plt.show()\n",
    "    \n",
    "    #plt.scatter(np.asarray(bud), np.asarray(diff))\n",
    "    #plt.xlim(-90,90)\n",
    "    #plt.ylim(-90,90)\n",
    "    #plt.xlabel('Bud vs Diff')\n",
    "    #plt.show()\n",
    "    \n",
    "    ave = np.mean(cos_values)\n",
    "    return ave, cos_values    \n",
    "\n",
    "\n",
    "#run_360_simulation(1)\n",
    "#final_ave, all_cos = run_180_simulation(10000)\n",
    "\n",
    "#cos = np.asarray(all_cos)\n",
    "#print cos.shape\n",
    "#all_means = []\n",
    "#all_std = []\n",
    "#for c in cos:\n",
    "    #curr_mean = np.mean(c)\n",
    "    #curr_std = np.std(c)\n",
    "    #all_means.append(curr_mean)\n",
    "    #all_std.append(curr_std)\n",
    "    \n",
    "#mean, sigma = np.mean(all_means), np.mean(all_std)\n",
    "\n",
    "#ci = scipy.stats.norm.interval(0.95, loc=mean, scale=sigma/math.sqrt(10000))\n",
    "#print ci\n",
    "#print mean\n",
    "\n",
    "#xs = [x for x in xrange(10000)]\n",
    "\n",
    "#plt.scatter(xs, all_means)\n"
   ]
  },
  {
   "cell_type": "code",
   "execution_count": 2,
   "metadata": {
    "collapsed": true
   },
   "outputs": [],
   "source": [
    "def run_once_180():\n",
    "    \n",
    "    bud = [random.uniform((0),(180)) for r in xrange(30)]\n",
    "    target = [random.uniform((0),(180)) for r  in xrange(30)] \n",
    "\n",
    "    cos_values = []\n",
    "    diff = []\n",
    "    diff_rads = []\n",
    "    for x,y in zip(bud, target):\n",
    "        curr_diff = abs(x-y)\n",
    "        #curr_diff = x-y\n",
    "        diff.append(curr_diff)\n",
    "        rads = curr_diff*(np.pi/180)\n",
    "        diff_rads.append(rads)\n",
    "        curr_cos = math.cos(rads)\n",
    "        cos_values.append(curr_cos)\n",
    "        \n",
    "    normal_rads = [x/np.pi for x in diff_rads]\n",
    "    \n",
    "    ave = np.mean(cos_values)\n",
    "    return ave, cos_values, diff_rads, normal_rads\n",
    "\n",
    "\n",
    "def run_180_simulation(x):\n",
    "    pol_eff_aves = []\n",
    "    all_cos = []\n",
    "    norm_rads = []\n",
    "    for i in range(x):\n",
    "        ave, cos, rads, normal_rads = run_once_180()\n",
    "        pol_eff_aves.append(ave)\n",
    "        all_cos.append(cos)\n",
    "        norm_rads.append(normal_rads)\n",
    "    final_ave = np.mean(pol_eff_aves)\n",
    "    return final_ave, all_cos, norm_rads\n",
    "\n",
    "\n",
    "#ave, cos, rads, normal_rads = run_once_180()\n",
    "\n",
    "#a, b, c = run_180_simulation(100)"
   ]
  },
  {
   "cell_type": "code",
   "execution_count": 5,
   "metadata": {
    "collapsed": false
   },
   "outputs": [
    {
     "data": {
      "text/plain": [
       "-0.99581221768080086"
      ]
     },
     "execution_count": 5,
     "metadata": {},
     "output_type": "execute_result"
    },
    {
     "data": {
      "image/png": "[encoded data removed]",
      "text/plain": [
       "<matplotlib.figure.Figure at 0x10a2bb490>"
      ]
     },
     "metadata": {},
     "output_type": "display_data"
    }
   ],
   "source": [
    "prob_dist = [4.0, 0.0, 0.0, 0.0, 0.0, 0.0, 0.0, 0.0, 0.0, 0.0, 0.0, 0.0, 0.0, 0.0, 0.0, 8.0, 0.0, 0.0, 0.0, 0.0, 0.0, 0.0, 0.0, 0.0, 0.0, 0.0, 4.0, 0.0, 0.0, 0.0, 0.0, 0.0, 0.0, 0.0, 0.0, 0.0, 0.0, 0.0, 0.0, 0.0, 0.0, 0.0, 0.0, 4.0, 0.0, 0.0, 4.0, 0.0, 0.0, 0.0, 0.0, 0.0, 0.0, 0.0, 4.0, 4.0, 0.0, 0.0, 0.0, 4.0, 0.0, 4.0, 4.0, 16.0, 0.0, 8.0, 4.0, 16.0, 8.0, 0.0, 0.0, 4.0, 0.0, 4.0, 0.0, 0.0, 0.0, 12.0, 4.0, 8.0, 4.0, 0.0, 0.0, 4.0, 0.0, 8.0, 4.0, 8.0, 8.0, 0.0, 12.0, 12.0, 4.0, 12.0, 4.0, 0.0, 4.0, 4.0, 4.0, 8.0, 4.0, 0.0, 4.0, 4.0, 8.0, 4.0, 8.0, 4.0, 4.0, 4.0, 0.0, 4.0, 0.0, 8.0, 0.0, 4.0, 4.0, 8.0, 0.0, 8.0, 0.0, 0.0, 0.0, 4.0, 0.0, 4.0, 0.0, 8.0, 0.0, 12.0, 8.0, 4.0, 0.0, 4.0, 8.0, 0.0, 0.0, 4.0, 0.0, 4.0, 0.0, 8.0, 4.0, 4.0, 0.0, 0.0, 0.0, 4.0, 0.0, 4.0, 4.0, 4.0, 4.0, 4.0, 4.0, 8.0, 0.0, 4.0, 4.0, 0.0, 4.0, 4.0, 0.0, 0.0, 4.0, 8.0, 0.0, 0.0, 0.0, 4.0, 4.0, 0.0, 8.0, 0.0, 4.0, 4.0, 0.0, 4.0, 0.0, 4.0]\n",
    "\n",
    "bud_dist = [4.0, 4.0, 8.0, 4.0, 8.0, 0.0, 8.0, 0.0, 0.0, 8.0, 12.0, 0.0, 4.0, 4.0, 4.0, 0.0, 0.0, 4.0, 0.0, 0.0, 20.0, 0.0, 8.0, 4.0, 8.0, 0.0, 8.0, 4.0, 8.0, 8.0, 4.0, 4.0, 0.0, 0.0, 0.0, 0.0, 4.0, 8.0, 16.0, 0.0, 4.0, 0.0, 4.0, 0.0, 4.0, 0.0, 4.0, 0.0, 0.0, 0.0, 4.0, 0.0, 4.0, 8.0, 4.0, 12.0, 0.0, 8.0, 0.0, 0.0, 4.0, 0.0, 0.0, 8.0, 0.0, 8.0, 8.0, 4.0, 0.0, 8.0, 4.0, 0.0, 4.0, 12.0, 4.0, 4.0, 4.0, 8.0, 20.0, 4.0, 8.0, 4.0, 4.0, 0.0, 0.0, 4.0, 0.0, 0.0, 0.0, 4.0, 0.0, 0.0, 0.0, 0.0, 0.0, 4.0, 8.0, 8.0, 0.0, 4.0, 4.0, 4.0, 0.0, 0.0, 0.0, 4.0, 0.0, 8.0, 4.0, 0.0, 0.0, 4.0, 8.0, 0.0, 0.0, 0.0, 4.0, 0.0, 0.0, 0.0, 4.0, 4.0, 4.0, 0.0, 0.0, 0.0, 0.0, 8.0, 0.0, 0.0, 0.0, 0.0, 0.0, 0.0, 0.0, 0.0, 0.0, 0.0, 8.0, 0.0, 0.0, 0.0, 4.0, 0.0, 0.0, 0.0, 0.0, 0.0, 0.0, 0.0, 0.0, 0.0, 0.0, 0.0, 0.0, 0.0, 0.0, 4.0, 0.0, 4.0, 0.0, 0.0, 0.0, 8.0, 0.0, 0.0, 0.0, 0.0, 4.0, 0.0, 0.0, 0.0, 0.0, 0.0, 0.0, 0.0, 0.0, 0.0, 0.0, 4.0]\n",
    "\n",
    "def run_once():\n",
    "    \n",
    "    bud = 0\n",
    "    target = [random.uniform((0),(360)) for r in xrange(100)] \n",
    "    candidates = range(0,180)\n",
    "    target_weighted = np.random.choice(candidates, 100, prob_dist)\n",
    "    \n",
    "    rads = []\n",
    "    for y in target:\n",
    "        theta = y - bud\n",
    "        radians = theta*(np.pi/180)\n",
    "        rads.append(radians)\n",
    "        \n",
    "    return rads\n",
    "\n",
    "def run_simulation(x):\n",
    "    values = []\n",
    "    for i in xrange(x):\n",
    "        theta = run_once()\n",
    "        values.append(theta)\n",
    "    pol = 1 - 2*(np.mean(values)/np.pi)\n",
    "    return pol, values\n",
    "\n",
    "pol, values = run_simulation(100)\n",
    "\n",
    "rads = run_once()\n",
    "degrees = [x*(180/np.pi) for x in rads]\n",
    "\n",
    "xs = xrange(100)\n",
    "\n",
    "plt.ylim(0, 180)\n",
    "plt.scatter(xs, degrees)\n",
    "plt.ylabel('Angle (degrees)')\n",
    "plt.xlabel('Individual Event')\n",
    "pol"
   ]
  },
  {
   "cell_type": "code",
   "execution_count": 8,
   "metadata": {
    "collapsed": false
   },
   "outputs": [
    {
     "name": "stdout",
     "output_type": "stream",
     "text": [
      "0.81099632576\n",
      "1.62199265152\n",
      "46.4666666667\n",
      "0.516296296296\n"
     ]
    },
    {
     "data": {
      "text/plain": [
       "0.48370370370370375"
      ]
     },
     "execution_count": 8,
     "metadata": {},
     "output_type": "execute_result"
    },
    {
     "data": {
      "image/png": "[encoded data removed]",
      "text/plain": [
       "<matplotlib.figure.Figure at 0x103dc6d10>"
      ]
     },
     "metadata": {},
     "output_type": "display_data"
    }
   ],
   "source": [
    "def run_once():\n",
    "    \n",
    "    prev_bud = 0\n",
    "    new_bud = [random.uniform((0),(180)) for r in xrange(30)] \n",
    "    target = [random.uniform((0),(180)) for r in xrange(30)] \n",
    "    candidates = range(0,180)\n",
    "    target_weighted = np.random.choice(candidates, 30, prob_dist)\n",
    "    new_bud_weighted = np.random.choice(candidates, 30, bud_dist)\n",
    "    \n",
    "    fig = plt.figure()\n",
    "    ax1 = fig.add_subplot(111)\n",
    "    xs = range(0,30)\n",
    "    ax1.scatter(xs, target_weighted, c='b', label='Target')\n",
    "    ax1.scatter(xs, new_bud_weighted, c='r', label='New Bud')\n",
    "    \n",
    "    rads = []\n",
    "    for x,y in zip(target_weighted, new_bud_weighted):\n",
    "        theta = abs(x-y)\n",
    "        radians = theta*(np.pi/180)\n",
    "        rads.append(radians)\n",
    "        \n",
    "    return rads\n",
    "\n",
    "def run_simulation(x):\n",
    "    values = []\n",
    "    for i in xrange(x):\n",
    "        theta = run_once()\n",
    "        values.append(theta)\n",
    "    pol = 1 - 2*(np.mean(values)/np.pi)\n",
    "    return pol, values\n",
    "\n",
    "#pol, values = run_simulation(1)\n",
    "\n",
    "rads = run_once()\n",
    "pol_eff = 1 - 2*(np.mean(rads)/np.pi)\n",
    "print np.mean(rads)\n",
    "print 2*(np.mean(rads))\n",
    "print np.mean(rads)*(180/np.pi)\n",
    "print 2*(np.mean(rads)/np.pi)\n",
    "degrees = [x*(180/np.pi) for x in rads]\n",
    "\n",
    "xs = range(0,30)\n",
    "\n",
    "plt.ylim(0, 180)\n",
    "plt.scatter(xs, degrees)\n",
    "plt.ylabel('Angle (degrees)')\n",
    "plt.xlabel('Individual Event')\n",
    "plt.legend()\n",
    "pol\n",
    "pol_eff"
   ]
  },
  {
   "cell_type": "code",
   "execution_count": 9,
   "metadata": {
    "collapsed": false
   },
   "outputs": [
    {
     "data": {
      "image/png": "[encoded data removed]",
      "text/plain": [
       "<matplotlib.figure.Figure at 0x10a480bd0>"
      ]
     },
     "metadata": {},
     "output_type": "display_data"
    }
   ],
   "source": [
    "pol_eff = []\n",
    "for x in range(0,180):\n",
    "    radians = x*(np.pi/180)\n",
    "    y = 1-2*(np.mean(radians)/np.pi)\n",
    "    pol_eff.append(y)\n",
    "\n",
    "xs = range(0,180)\n",
    "plt.scatter(xs, pol_eff)\n",
    "plt.xlim(0,180)\n",
    "plt.ylim(-1,1)\n",
    "plt.ylabel('Polarization Efficiency')\n",
    "plt.xlabel('Angle between Target and New Bud')\n",
    "plt.show()"
   ]
  },
  {
   "cell_type": "code",
   "execution_count": null,
   "metadata": {
    "collapsed": true
   },
   "outputs": [],
   "source": []
  }
 ],
 "metadata": {
  "kernelspec": {
   "display_name": "Python 2",
   "language": "python",
   "name": "python2"
  },
  "language_info": {
   "codemirror_mode": {
    "name": "ipython",
    "version": 2
   },
   "file_extension": ".py",
   "mimetype": "text/x-python",
   "name": "python",
   "nbconvert_exporter": "python",
   "pygments_lexer": "ipython2",
   "version": "2.7.11"
  }
 },
 "nbformat": 4,
 "nbformat_minor": 0
}
