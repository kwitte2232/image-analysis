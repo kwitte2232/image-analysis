{
 "cells": [
  {
   "cell_type": "code",
   "execution_count": 11,
   "metadata": {
    "collapsed": true
   },
   "outputs": [],
   "source": [
    "%matplotlib inline\n",
    "import pandas as pd\n",
    "import numpy as np\n",
    "import scipy.stats\n",
    "import math\n",
    "import matplotlib.pyplot as plt\n",
    "import os\n"
   ]
  },
  {
   "cell_type": "code",
   "execution_count": 8,
   "metadata": {
    "collapsed": false
   },
   "outputs": [
    {
     "name": "stdout",
     "output_type": "stream",
     "text": [
      "0.158888889 0.559039169566\n",
      "-0.025 0.510740423237\n"
     ]
    }
   ],
   "source": [
    "\n",
    "curr_file = \"/Users/Kristen/Desktop/06042017/Cdc24_Bem1_Mutants.csv\"\n",
    "\n",
    "data = pd.read_csv(curr_file)\n",
    "data[\"Cdc24\"].dropna()\n",
    "\n",
    "def from_rads_get_pol(df, name):\n",
    "    rads = np.asarray(df[name])\n",
    "    pol_eff = []\n",
    "    for r in rads:\n",
    "        pol = 1-2*(np.mean(r)/np.pi)\n",
    "        pol_eff.append(pol)\n",
    "    return pol_eff\n",
    "\n",
    "def find_ave_sem(pol):\n",
    "    std = np.std(np.asarray(pol))\n",
    "    num_cells = float(len(pol))\n",
    "    sem = std/(math.sqrt(num_cells))\n",
    "    ave = np.mean(pol)\n",
    "    median = np.median(pol)\n",
    "    print median, std\n",
    "    return ave, sem\n",
    "\n",
    "bem = np.asarray(data[\"Bem1\"])\n",
    "cdc24 = np.asarray(data[\"Cdc24\"])\n",
    "cdc24 = [value for value in cdc24 if not math.isnan(value)]\n",
    "\n",
    "bem_ave, bem_sem = find_ave_sem(bem)\n",
    "\n",
    "cdc24_ave, cdc24_sem = find_ave_sem(cdc24)\n"
   ]
  },
  {
   "cell_type": "code",
   "execution_count": 20,
   "metadata": {
    "collapsed": false
   },
   "outputs": [
    {
     "data": {
      "image/png": "[encoded data removed]",
      "text/plain": [
       "<matplotlib.figure.Figure at 0x10deae2d0>"
      ]
     },
     "metadata": {},
     "output_type": "display_data"
    }
   ],
   "source": [
    "expt_positions = [1,2]\n",
    "\n",
    "expt = [cdc24, bem]\n",
    "\n",
    "expt_sem = [cdc24_sem, bem_sem]\n",
    "\n",
    "fig = plt.figure()\n",
    "ax = fig.gca()\n",
    "whiskerprops = dict(linestyle='')\n",
    "medianprops = dict(linestyle='')\n",
    "meanlineprops = dict(linestyle='-', color='black')\n",
    "\n",
    "expt_bp = plt.boxplot(expt, positions=expt_positions, showbox=False, showcaps=False, meanprops=meanlineprops, meanline=True, showmeans=True, medianprops=medianprops, showfliers=False, whiskerprops=whiskerprops)\n",
    "\n",
    "for i, n in enumerate(expt_positions):\n",
    "    y = expt[i]\n",
    "    #print y\n",
    "    x = np.random.normal(n, 0.04, len(y))\n",
    "    plt.plot(x, y, color='r', marker='.', linestyle='')\n",
    "    \n",
    "plt.errorbar(expt_positions, [cdc24_ave, bem_ave], yerr=expt_sem, fmt=None, ecolor='k')\n",
    "    \n",
    "plt.xlim(0.5,2.5)\n",
    "plt.ylim(-1,1)\n",
    "ax.set_yticks(np.arange(-1.0,1,0.25))\n",
    "plt.rc('grid', linestyle=\":\", color='black')\n",
    "ax.yaxis.grid()\n",
    "\n",
    "save_to = \"/Users/Kristen/Desktop/06042017/Cdc24_Bem1_Polarization_Efficiency.pdf\"\n",
    "plt.savefig(save_to)\n",
    "\n",
    "plt.show()"
   ]
  },
  {
   "cell_type": "code",
   "execution_count": null,
   "metadata": {
    "collapsed": true
   },
   "outputs": [],
   "source": []
  }
 ],
 "metadata": {
  "kernelspec": {
   "display_name": "Python 2",
   "language": "python",
   "name": "python2"
  },
  "language_info": {
   "codemirror_mode": {
    "name": "ipython",
    "version": 2
   },
   "file_extension": ".py",
   "mimetype": "text/x-python",
   "name": "python",
   "nbconvert_exporter": "python",
   "pygments_lexer": "ipython2",
   "version": "2.7.11"
  }
 },
 "nbformat": 4,
 "nbformat_minor": 0
}
